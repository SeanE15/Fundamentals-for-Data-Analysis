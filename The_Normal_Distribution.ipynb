{
 "cells": [
  {
   "cell_type": "markdown",
   "id": "c8c825bf",
   "metadata": {},
   "source": [
    "# The Normal Disribution\n",
    "#### Written by: Sean Elliott \n",
    "#### Lecturer: Dr Ian McLoughlin \n",
    "#### Course: Fundamentals for Data Analytics 2022"
   ]
  },
  {
   "cell_type": "markdown",
   "id": "84cceaec",
   "metadata": {},
   "source": [
    "***"
   ]
  },
  {
   "cell_type": "markdown",
   "id": "5de9e61e",
   "metadata": {},
   "source": [
    "![The Normal Distribution](https://i0.wp.com/statisticsbyjim.com/wp-content/uploads/2018/04/pizza_delivery.png?resize=576%2C384) "
   ]
  },
  {
   "cell_type": "markdown",
   "id": "62012708",
   "metadata": {},
   "source": [
    "The aim of this notebook is to explain what the 'Normal Distribution is; how it can be created in python using code, where it is useful in data analytics and also how it can be applied to everyday data analysis."
   ]
  },
  {
   "cell_type": "markdown",
   "id": "d12283d4",
   "metadata": {},
   "source": [
    "## What is the Normal Distribution?\n",
    "\n",
    "The 'Normal distribution', also known as the Gaussian distribution, is a probability distribution that is symmetric and centred on the mean, showing that data near the mean are more frequent in occurrence than data further from the mean.\n",
    "\n",
    "In graphical form, the normal distribution appears as a \"bell curve\". The Normal Distribution is a proper name for a 'probability bell curve'. \n",
    "\n",
    "The Normal Distribution is 'Unimodal' meaning that it has 1 single peak.\n",
    "\n",
    "There are a few key pieces of information that we need to take note of before we delve into 'The Normal Distribution'; namely that the mean of the distribution is zero and it's standard deviation is 1. It has zero skew and a kurtosis of 3.\n",
    "\n",
    "'Skew' is the measurement of symmetry in the distribution or (more precisely) the lack of symmetry of a distribution.\n",
    "\n",
    "'Kurtosis' is a measurement of whether a data set is heavy-tailed or lightly-tailed. If a data set has outliers or is heavy tailed it has high kurtosis; with the low kurtosis meaning light tails and lack of outliers.\n",
    "\n",
    "A histogram is an effective graphical representation for showing both skewness and kurtosis of a data set.\n",
    "\n",
    "Many naturally occurring phenomena appear to be normally-distributted.\n",
    "\n",
    "****\n"
   ]
  },
  {
   "cell_type": "markdown",
   "id": "5ecd7f93",
   "metadata": {},
   "source": [
    "## Who was Carl Gauss?\n",
    "\n",
    "![](https://upload.wikimedia.org/wikipedia/commons/thumb/e/ec/Carl_Friedrich_Gauss_1840_by_Jensen.jpg/220px-Carl_Friedrich_Gauss_1840_by_Jensen.jpg)\n",
    "\n",
    "Johann Carl Friedrich Gauss was born on 30th April 1777 and died on 23rd February 1855. Gauss was born in Brunswick (part of Lower Saxony in Germany) to working class parents. Gauss was a German mathematician and physicist who made significant contributions to many fields in mathematics and science. Gauss was professor of mathematics at the University of Göttingen, he was also a successful and celebrated scientist who made immense contirbutions to scientific research, including publishing many theorems and dissertations. It is said that his personal motto was 'pauca sed matura' (\"few, but ripe\") and this is in contradiction with his extensive discovery list as witnessed below. To name but a few of his discoveries:\n",
    "\n",
    "[Gaussian elimination](https://en.wikipedia.org/wiki/Gaussian_elimination#:~:text=In%20mathematics%2C%20Gaussian%20elimination%2C%20also,the%20corresponding%20matrix%20of%20coefficients.)\n",
    "\n",
    "[Gauss–Seidel method](https://en.wikipedia.org/wiki/Gauss%E2%80%93Seidel_method#:~:text=In%20numerical%20linear%20algebra%2C%20the,a%20system%20of%20linear%20equations.)\n",
    "\n",
    "[Gauss's cyclotomic formula](https://en.wikipedia.org/wiki/Cyclotomic_polynomial)\n",
    "\n",
    "[Gaussian binomial coefficient, also called Gaussian polynomial or Gaussian coefficient](https://en.wikipedia.org/wiki/Gaussian_binomial_coefficient)\n",
    "\n",
    "[Gauss transformation](http://linas.org/mirrors/www.cs.ut.ee/2004.01.04/toomas_l/linalg/lin2/node4.html)\n",
    "\n",
    "[The normal distribution, also known as the Gaussian distribution](https://en.wikipedia.org/wiki/Normal_distribution)\n",
    "\n",
    "[The Gaussian function, the function used in the normal distribution](https://en.wikipedia.org/wiki/Gaussian_function)\n",
    "\n",
    "[Gaussian blur, a technique in image processing](https://en.wikipedia.org/wiki/Gaussian_blur)\n",
    "\n",
    "[The inverse Gaussian distribution, also known as the Wald distribution](https://en.wikipedia.org/wiki/Inverse_Gaussian_distribution#:~:text=In%20probability%20theory%2C%20the%20inverse,on%20(0%2C%E2%88%9E).&text=is%20the%20standard%20normal%20(standard%20Gaussian)%20distribution%20c.d.f.&text=is%20the%20shape%20parameter.)\n",
    "\n",
    "[Knot theory](https://en.wikipedia.org/wiki/Knot_theory)\n",
    "\n",
    "[Gauss–Krüger coordinate system](https://pro.arcgis.com/en/pro-app/latest/help/mapping/properties/gauss-kruger.htm#:~:text=The%20Gauss%2DKr%C3%BCger%20coordinate%20system,false%20easting%20of%20500%2C000%20meters.)\n",
    "\n",
    "[Gaussian grid](https://en.wikipedia.org/wiki/Gaussian_grid)\n",
    "\n",
    "[Degaussing, to demagnetize an object](https://en.wikipedia.org/wiki/Degaussing)\n",
    "\n",
    "[Gauss rifle or coilgun](https://en.wikipedia.org/wiki/Coilgun)\n",
    "\n",
    "\n",
    "\n",
    "Sometimes referred to as the Princeps mathematicorum (Latin for '\"the foremost of mathematicians\"') and \"the greatest mathematician since antiquity\", Gauss had an exceptional influence in many fields of mathematics and science as witnessed above. He is ranked among history's most influential mathematicians. It is said '[]...he made his first groundbreaking mathematical discoveries while still a teenager. He completed his magnum opus, [Disquisitiones Arithmeticae](https://en.wikipedia.org/wiki/Disquisitiones_Arithmeticae), in 1798, at the age of 21, and it was published in 1801. This work was fundamental in consolidating number theory as a discipline and has shaped the field to the present day.'(1)\n",
    "\n",
    "Gauss died of a heartattack on 23rd of February 1855 in Göttingen and is interred in the Albani Cemetery there. Gauss' brain was preserved and studied by [Rudolf Wagner](https://en.wikipedia.org/wiki/Rudolf_Wagner) a German anatomist and physiologist. Wagner found that the mass of Gauss' brain was slightly above average and that there were [highly developed convolutions](https://faculty.washington.edu/chudler/betac.html) - which it was recently discovered are attributed to the explanation for his genius. Convolutions are the creases and folds in the brain which allow for an even larger surface area in the brain.\n",
    "\n",
    "****"
   ]
  },
  {
   "cell_type": "markdown",
   "id": "4f1ad3d7",
   "metadata": {},
   "source": [
    "## What is the formula for the Normal Distribution?\n",
    "\n",
    "The normal distribution has the following formula. Note that only the values of the mean (μ) and standard deviation (σ) are necessary. \n",
    "\n",
    "$$ f(x) = \\frac{1}{\\sigma\\sqrt{2 \\pi }} e^{-\\frac{1}{2}({\\frac{(x - \\mu)}{\\sigma})^2}} $$\n",
    "\n",
    "----\n",
    "\n",
    "<div align=\"center\"> x = The value of the variable/data </div>\n",
    "\n",
    "----\n",
    "\n",
    "<div align=\"center\"> f(x) = The Probability Function </div>\n",
    "\n",
    "----\n",
    "\n",
    "<div align=\"center\"> $$\\mu$$ The Mean </div>\n",
    "\n",
    "----\n",
    "\n",
    "<div align=\"center\"> $$\\sigma$$ The Standard Deviation</div>"
   ]
  },
  {
   "cell_type": "markdown",
   "id": "878b0e41",
   "metadata": {},
   "source": [
    "## How do I know if it is a Normal Distribution?\n",
    "\n",
    "There are some key ways that we can visually tell that a trend is a Normal Distribution.\n",
    "There are several important features that define it; namely the mean(the average), the mode(the midpoint) and the median(the most frequent observation.) The three key points are all equal to one another in the normal distribution. These values represent the peak or highest point of the distribution. The distribution is, as shown below, symmetrical - it falls around the 'mean' value, and the width of the mean is defined by the standard deviation. "
   ]
  },
  {
   "cell_type": "markdown",
   "id": "b6934058",
   "metadata": {},
   "source": [
    "![](https://miro.medium.com/max/720/0*wHMvuwRa_YF9SFwY.webp)"
   ]
  },
  {
   "cell_type": "markdown",
   "id": "bc8c3000",
   "metadata": {},
   "source": [
    "## What are the Mean, Mode and Median?\n",
    "\n",
    "The 'Mean' is the average or 'norm' - it is calculated by adding up all of the values to find a total. This total is then divided by the total of number of values that were added together:\n",
    "\n",
    "$$ 2 + 2 + 3 + 5 + 5 + 7 + 8 = 32 $$\n",
    "\n",
    "$$ 32 / 7 = 4.57$$\n",
    "\n",
    "*Mean = 4.57\n",
    "\n",
    "The 'Mode' is the most frequent value - which is calculated by counting how many of each value as they appear. Helpful to note that you can have more than one 'Mode' value:\n",
    "\n",
    "$$ 2, 2, 3, 4, 5, 5, 7, 8. $$\n",
    "\n",
    "The *Modes are: 2 & 5 (as they both appear twice.)\n",
    "\n",
    "The 'Median' is the middle range - this is calculated by putting the numbers into numerical order and counting to find the middle value. If there are two values in the middle then we find the mean of the two values:\n",
    "\n",
    "$$ 1, 1, 2, 4, 5, 7, 8, 9, 11 $$\n",
    "\n",
    "The *Median in this case is '5' as it is slap bang in the middle of the list of organised numbers."
   ]
  },
  {
   "cell_type": "markdown",
   "id": "1889bb3f",
   "metadata": {},
   "source": [
    "## Why is the normal distribution called 'Normal'?\n",
    "\n",
    "The normal distribution is technically known as the 'Gaussian' distribution, however it gained the 'normal' moniker following 19th century sceintific publications which showed a link between the 'bell curve shaped graph' and naturally occurring phenomena - which all appear to 'deviate normally' from the mean.\n",
    "\n",
    "![](https://i.ytimg.com/vi/kxGsL6PRiNg/hqdefault.jpg)"
   ]
  },
  {
   "cell_type": "markdown",
   "id": "cfa8d162",
   "metadata": {},
   "source": [
    "## What is Standard Deviation?\n",
    "\n",
    "![](https://www.mathplanet.com/Oldsite/media/27934/normal_distribution_500x263.jpg)\n",
    "\n",
    "The standard normal distribution is a normal distribution with a mean of zero and a standard deviation of 1. The standard normal distribution is centered at zero and the degree to which a given measurement deviated from the mean is given by the standard deviation.\n",
    "\n",
    "[Standard Deviation](https://en.wikipedia.org/wiki/Standard_deviation) in statistics 'is the measure of the amount of variation or dispersion of a set of values. A low standard deviation indicates that the values tend to be close to the mean... while a high standard deviation indicates that the values are spread out over a wider range.'(2)\n",
    "\n",
    "Standard Deviation is most commonly represented in equations and mathematical texts by the lowercase Greek letter sigma (σ).\n",
    "\n",
    "The term was first used in writing by [Karl Pearson](https://en.wikipedia.org/wiki/Karl_Pearson) and English mathematician and biostatistician in 1894. Carl Gauss referred to the standard deviation by a different name - 'Mean Error'.\n",
    "\n",
    "In the demonstration below I will create a normal distribution and plot the standard deviation as an example.  We start by calling our functions, Numpy, Math and Matplotlib."
   ]
  },
  {
   "cell_type": "code",
   "execution_count": 172,
   "id": "78b6f0b1",
   "metadata": {},
   "outputs": [],
   "source": [
    "import numpy as np\n",
    "import matplotlib.pyplot as plt\n",
    "import math\n",
    "import scipy.stats as stats\n",
    "from scipy.stats import norm\n"
   ]
  },
  {
   "cell_type": "code",
   "execution_count": 173,
   "id": "e9199ce9",
   "metadata": {},
   "outputs": [
    {
     "data": {
      "image/png": "[encoded data removed]",
      "text/plain": [
       "<Figure size 640x480 with 1 Axes>"
      ]
     },
     "metadata": {},
     "output_type": "display_data"
    }
   ],
   "source": [
    "# Define values to Mu and Sigma\n",
    "mu = 0\n",
    "sigma = 1 \n",
    "\n",
    "# Now plot the Normal Distribution\n",
    "x = np.linspace(mu - 3*sigma, mu + 3*sigma, 100)\n",
    "\n",
    "# Plot graph.\n",
    "plt.plot(x, stats.norm.pdf(x, mu, sigma),label='μ: 0, σ: 1')\n",
    "\n",
    "# Draw a vertical line where the standard deviation is.\n",
    "plt.axvline(x=0, color='red');\n",
    "\n",
    "# add legend to plot\n",
    "plt.legend(title='Parameters')\n",
    "\n",
    "# add axes labels and a title\n",
    "plt.ylabel('Density')\n",
    "plt.xlabel('x')\n",
    "plt.title('Normal Distribution with Red Standard Devation line', fontsize=14);"
   ]
  },
  {
   "cell_type": "markdown",
   "id": "5d2a8cb0",
   "metadata": {},
   "source": [
    "# Interquartile Range and the Empirical (68, 95, 99.7) rule.\n",
    "\n",
    "![](https://media.geeksforgeeks.org/wp-content/uploads/20200624134047/chart11.jpg)\n",
    "\n",
    "The Interquartile range is the difference between the 75th and 25th percentile (1st and 3rd quartiles) within the normal distribution. It is a measure of the dispersion similar to standard deviation or variance, but it is more robust against outliers. \n",
    "\n",
    "[The Empirical rule](https://www.geeksforgeeks.org/python-68-95-99-7-rule-in-statistics/) states that for any normal distribution we have the following observations:\n",
    "\n",
    "\n",
    "<div align=\"center\"> 68% of the observed values lie between 1 standard devation around the mean. </div>\n",
    "\n",
    "\n",
    "<div align=\"center\"> 95% of the observed values lie between 2 standard devation around the mean. </div>\n",
    "\n",
    "\n",
    "<div align=\"center\"> 99.7% of the observed values lie between 3 standard devation around the mean. </div>\n",
    "\n",
    "\n",
    "Below; I will no show the above percentiles confirming the Empirical Rule's accuracy; the below calculation will use a mean of 0 and a standard deviation of 1."
   ]
  },
  {
   "cell_type": "code",
   "execution_count": 174,
   "id": "19d97b92",
   "metadata": {},
   "outputs": [
    {
     "name": "stdout",
     "output_type": "stream",
     "text": [
      "Fraction of values within one Standard Deviation = 0.6826894921370859\n",
      "Fraction of values within two Standard Deviation = 0.9544997361036416\n",
      "Fraction of values within three Standard Deviation = 0.9973002039367398\n"
     ]
    }
   ],
   "source": [
    "# Define values to Mu and Sigma\n",
    "mu = 0\n",
    "sigma = 1 \n",
    "\n",
    "one_sd = norm.cdf(sigma, mu, sigma) - norm.cdf(-sigma, mu, sigma)\n",
    "two_sd = norm.cdf(2 * sigma, mu, sigma) - norm.cdf(-2 * sigma, mu, sigma)\n",
    "three_sd = norm.cdf(3 * sigma, mu, sigma) - norm.cdf(-3 * sigma, mu, sigma)\n",
    " \n",
    "# printing the value of fractions\n",
    "# within each band\n",
    "print(\"Fraction of values within one Standard Deviation =\", one_sd)\n",
    "print(\"Fraction of values within two Standard Deviation =\", two_sd)\n",
    "print(\"Fraction of values within three Standard Deviation =\", three_sd)\n"
   ]
  },
  {
   "cell_type": "markdown",
   "id": "b5391e46",
   "metadata": {},
   "source": [
    "## Relevance of the Normal Distribution\n",
    "\n",
    "As stated above, the Normal Distribution is most often found in naturally occuring phenomena. \n",
    "Some real-world occurences are as follows:\n",
    "\n",
    "1) Height - The height of the population is an excellent example of the normal distribution. The number of people taller and shorter than the average height is almost equal, with a very small number of people in the extremely tall/extremely small catergory.\n",
    "\n",
    "2) Roll of a dice - A fair rolling of a dice is a good example of normal distribution. In a fair roll you have a 1/6 chance of the die landing on 1 - which avergaes at 16.7% (1/6). If a second dice is added and rolled there are 36 possible combination of rolls, however the probability of rolling a '1' still avergaes around 16.7%.\n",
    "\n",
    "3) Blood Pressure - Systolic blood pressure in healthy adults has a normal distribution with mean 112 mmHg and standard deviation 10 mmHg, i.e. Y ∼ N(112,10). Over a study of a population it can be determined that blood pressure follows a normal distribution. Below is a diagram of range of blood pressures and how the result can be possible precursor for future health concerns."
   ]
  },
  {
   "cell_type": "markdown",
   "id": "6aac29e9",
   "metadata": {},
   "source": [
    "![](https://media.springernature.com/lw685/springer-static/image/art%3A10.1186%2F1468-6708-6-5/MediaObjects/13063_2005_Article_124_Fig8_HTML.jpg)"
   ]
  },
  {
   "cell_type": "markdown",
   "id": "c3efa303",
   "metadata": {},
   "source": [
    "## Creating a Random Normal Distribution\n",
    "\n",
    "Below I will now create a randomly generated normal distribution. I will start by using the (numpy.random package) and create a normal distribution from a random set of data in python."
   ]
  },
  {
   "cell_type": "code",
   "execution_count": 175,
   "id": "79e7feb9",
   "metadata": {},
   "outputs": [
    {
     "data": {
      "text/plain": [
       "array([ 2.51730681,  0.85213883,  0.20730826, ...,  0.94181009,\n",
       "        0.37771285, -1.55382714])"
      ]
     },
     "execution_count": 175,
     "metadata": {},
     "output_type": "execute_result"
    }
   ],
   "source": [
    "# create random array of data for plotting and store it in x.\n",
    "x = np.random.normal(0.0, 1.0, (10000))\n",
    "x"
   ]
  },
  {
   "cell_type": "code",
   "execution_count": 176,
   "id": "1a7a5bd4",
   "metadata": {},
   "outputs": [
    {
     "data": {
      "text/plain": [
       "0.0075806497053301225"
      ]
     },
     "execution_count": 176,
     "metadata": {},
     "output_type": "execute_result"
    }
   ],
   "source": [
    "# calculate the mean value for x (which we will show on the plot of Normal Distribution.)\n",
    "x_mean = x.mean()\n",
    "x_mean"
   ]
  },
  {
   "cell_type": "code",
   "execution_count": 177,
   "id": "bda95814",
   "metadata": {},
   "outputs": [
    {
     "data": {
      "text/plain": [
       "1.0008440865231274"
      ]
     },
     "execution_count": 177,
     "metadata": {},
     "output_type": "execute_result"
    }
   ],
   "source": [
    "# Now calculate the standard deviation\n",
    "stdev = x.std(axis=0)\n",
    "stdev"
   ]
  },
  {
   "cell_type": "code",
   "execution_count": 178,
   "id": "6ab733ad",
   "metadata": {
    "scrolled": false
   },
   "outputs": [
    {
     "data": {
      "image/png": "[encoded data removed]",
      "text/plain": [
       "<Figure size 640x480 with 1 Axes>"
      ]
     },
     "metadata": {},
     "output_type": "display_data"
    }
   ],
   "source": [
    "#create plot using above randomly generated numbers\n",
    "count, bins, ignored = plt.hist(x,25)\n",
    "plt.show()"
   ]
  },
  {
   "cell_type": "code",
   "execution_count": 179,
   "id": "d224b887",
   "metadata": {},
   "outputs": [
    {
     "data": {
      "image/png": "[encoded data removed]",
      "text/plain": [
       "<Figure size 640x480 with 1 Axes>"
      ]
     },
     "metadata": {},
     "output_type": "display_data"
    }
   ],
   "source": [
    "# Fit a normal distribution to the data: mean and standard deviation\n",
    "mu, std = norm.fit(x) \n",
    "  \n",
    "# Plot the histogram.\n",
    "plt.hist(x, bins=25, density=True, alpha=0.6)\n",
    "  \n",
    "# Plot the Probability Density Function.\n",
    "xmin, xmax = plt.xlim()\n",
    "x = np.linspace(xmin, xmax, 100)\n",
    "p = norm.pdf(x, x_mean, stdev)\n",
    "\n",
    "# show plot\n",
    "plt.plot(x, p, linewidth=2)\n",
    "plt.show()"
   ]
  },
  {
   "cell_type": "markdown",
   "id": "1ce32421",
   "metadata": {},
   "source": [
    "### References: \n",
    "****"
   ]
  },
  {
   "cell_type": "markdown",
   "id": "2240e677",
   "metadata": {},
   "source": [
    "1) https://en.wikipedia.org/wiki/Carl_Friedrich_Gauss\n",
    "\n",
    "2) https://en.wikipedia.org/wiki/Standard_deviation#History\n",
    "\n",
    "https://www.investopedia.com/terms/n/normaldistribution.asp#:~:text=Normal%20distribution%2C%20also%20known%20as,as%20a%20%22bell%20curve%22.\n",
    "\n",
    "https://www.itl.nist.gov/div898/handbook/eda/section3/eda35b.htm\n",
    "\n",
    "https://blog.minitab.com/en/dice-dragons-closer-to-normal-distribution-explaining-central-limit-theorem#:~:text=Example%201%3A%20Rolling%20a%20Die%20Shows%20Normal%20Distribution&text=The%20probability%20of%20rolling%20any,of%20rolling%20the%20other%20five.\n",
    "\n",
    "https://www.researchgate.net/figure/A-normal-distribution-fitted-to-the-birth-weight-of-babies-resulting-from-singleton_fig2_228707608\n",
    "\n",
    "https://www.pluralsight.com/guides/interpreting-data-using-descriptive-statistics-python\n",
    "\n",
    "https://www.youtube.com/watch?v=mtbJbDwqWLE\n",
    "\n",
    "https://mathbench.umd.edu/modules-au/prob-stat_normal-distribution/page04.htm \n",
    "\n",
    "https://www.mathsisfun.com/data/standard-normal-distribution.html\n",
    "\n",
    "https://philschatz.com/statistics-book/contents/m46980.html\n",
    "\n",
    "https://www.freecodecamp.org/news/how-to-explain-data-using-gaussian-distribution-and-summary-statistics-with-python/\n",
    "\n",
    "https://www.geeksforgeeks.org/how-to-plot-normal-distribution-over-histogram-in-python/\n",
    "\n",
    "\n",
    "\n",
    "\n",
    "\n"
   ]
  }
 ],
 "metadata": {
  "kernelspec": {
   "display_name": "Python 3 (ipykernel)",
   "language": "python",
   "name": "python3"
  },
  "language_info": {
   "codemirror_mode": {
    "name": "ipython",
    "version": 3
   },
   "file_extension": ".py",
   "mimetype": "text/x-python",
   "name": "python",
   "nbconvert_exporter": "python",
   "pygments_lexer": "ipython3",
   "version": "3.9.13"
  }
 },
 "nbformat": 4,
 "nbformat_minor": 5
}
