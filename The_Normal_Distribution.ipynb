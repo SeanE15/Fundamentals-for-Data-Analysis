{
 "cells": [
  {
   "cell_type": "markdown",
   "id": "c8c825bf",
   "metadata": {},
   "source": [
    "# The Normal Disribution\n",
    "#### Written by: Sean Elliott \n",
    "#### Lecturer: Dr Ian McLoughlin \n",
    "#### Course: Fundamentals for Data Analytics 2022\n",
    "#### ATU Galway "
   ]
  },
  {
   "cell_type": "markdown",
   "id": "84cceaec",
   "metadata": {},
   "source": [
    "***"
   ]
  },
  {
   "cell_type": "markdown",
   "id": "5de9e61e",
   "metadata": {},
   "source": [
    "![The Normal Distribution](https://i0.wp.com/statisticsbyjim.com/wp-content/uploads/2018/04/pizza_delivery.png?resize=576%2C384) "
   ]
  },
  {
   "cell_type": "markdown",
   "id": "62012708",
   "metadata": {},
   "source": [
    "The aim of this notebook is to explain what the 'Normal Distribution is; how it can be created in python using code, where it is useful in data analytics and also how it can be applied to everyday data analysis."
   ]
  },
  {
   "cell_type": "markdown",
   "id": "d12283d4",
   "metadata": {},
   "source": [
    "## What is the Normal Distribution?\n",
    "\n",
    "The 'Normal distribution', also known as the Gaussian distribution, is a probability distribution that is symmetric and centred on the mean, showing that data near the mean are more frequent in occurrence than data further from the mean.\n",
    "\n",
    "In graphical form, the normal distribution appears as a \"bell curve\". The Normal Distribution is a proper name for a 'probability bell curve'. \n",
    "\n",
    "There are a few key pieces of information that we need ot take note of before we delve into 'The Normal Distribution'; namely that the mean of the distribution is zero and it's standard deviation is 1. It has zero skew and a kurtosis of 3.\n",
    "\n",
    "'Skew' is the measurement of symmetry in the distribution or (more precisely) the lack of symmetry of a distribution.\n",
    "\n",
    "'Kurtosis' is a measurement of whether a data set is heavy-tailed or lightly-tailed. If a data set has outliers or is heavy tailed it has high kurtosis; with the low kurtosis meaning light tails and lack of outliers.\n",
    "\n",
    "A histogram is an effective graphical representation for showing both skewness and kurtosis of a data set.\n",
    "\n",
    "Many naturally occurring phenomena appear to be normally-distributted.\n"
   ]
  },
  {
   "cell_type": "markdown",
   "id": "4f1ad3d7",
   "metadata": {},
   "source": [
    "## What is the formula for the Normal Distribution?\n",
    "\n",
    "The normal distribution has the following formula. Note that only the values of the mean (μ) and standard deviation (σ) are necessary. \n",
    "\n",
    "$$ f(x) = \\frac{1}{\\sigma\\sqrt{2 \\pi }} e^{-\\frac{1}{2}({\\frac{(x - \\mu)}{\\sigma})^2}} $$\n",
    "\n",
    "----\n",
    "\n",
    "<div align=\"center\"> x = The value of the variable/data </div>\n",
    "\n",
    "----\n",
    "\n",
    "<div align=\"center\"> f(x) = The Probability Function </div>\n",
    "\n",
    "----\n",
    "\n",
    "<div align=\"center\"> $$\\mu$$ The Mean </div>\n",
    "\n",
    "----\n",
    "\n",
    "<div align=\"center\"> $$\\sigma$$ The Standard Deviation</div>"
   ]
  },
  {
   "cell_type": "markdown",
   "id": "878b0e41",
   "metadata": {},
   "source": [
    "## How do I know if it's a Normal Distribution?\n",
    "\n",
    "There are some key ways that we can visually tell that a trend is a Normal Distribution.\n",
    "There are several important features that define it; namely the mean(the average), the mode(the midpoint) and the median(the most frequent observation. The three key points are all equal to one another in the normal distribution. These values represent the peak or highest point of the distribution. The distribution is symetrical - it falls around the 'mean' value, and width of the mean is defined by the standard deviation. "
   ]
  },
  {
   "cell_type": "markdown",
   "id": "b6934058",
   "metadata": {},
   "source": [
    "![](https://miro.medium.com/max/720/0*wHMvuwRa_YF9SFwY.webp)"
   ]
  },
  {
   "cell_type": "markdown",
   "id": "bc8c3000",
   "metadata": {},
   "source": [
    "## What are the Mean, Mode and Median?\n",
    "\n",
    "The 'Mean' is the average or 'norm' - it is calculated by adding up all of the values to find a total. Thsi total is then divided by the total of number of values that were added together:\n",
    "\n",
    "$$ 2 + 2 + 3 + 5 + 5 + 7 + 8 = 32 $$\n",
    "$$ 32 / 7 = 4.57$$\n",
    "\n",
    "The 'Mode' is the most frequent value - which is calculated by counting how many of each value as they appear. Hlepful to note that you can have more than one 'Mode' value:\n",
    "\n",
    "$$ 2, 2, 3, 4, 5, 5, 7, 8. $$\n",
    "The Modes = 2 & 5 (as they both appear twice.)\n",
    "\n",
    "The 'Median' is the middle range - this is calculated by putting the numbers into numerical order and counting to find the middle value. If there are two values in the middle then we find the mean of the two values:\n",
    "\n",
    "$$ 1, 1, 2, 4, 5, 7, 8, 9, 11 $$\n",
    "The 'Median' in this case is '5' as it is slap bang in the middle of the list of organised numbers."
   ]
  },
  {
   "cell_type": "markdown",
   "id": "1ce32421",
   "metadata": {},
   "source": [
    "#### References: \n",
    "----"
   ]
  },
  {
   "cell_type": "markdown",
   "id": "2240e677",
   "metadata": {},
   "source": [
    "https://www.investopedia.com/terms/n/normaldistribution.asp#:~:text=Normal%20distribution%2C%20also%20known%20as,as%20a%20%22bell%20curve%22.\n",
    "\n",
    "https://www.itl.nist.gov/div898/handbook/eda/section3/eda35b.htm\n",
    "\n"
   ]
  }
 ],
 "metadata": {
  "kernelspec": {
   "display_name": "Python 3 (ipykernel)",
   "language": "python",
   "name": "python3"
  },
  "language_info": {
   "codemirror_mode": {
    "name": "ipython",
    "version": 3
   },
   "file_extension": ".py",
   "mimetype": "text/x-python",
   "name": "python",
   "nbconvert_exporter": "python",
   "pygments_lexer": "ipython3",
   "version": "3.9.13"
  }
 },
 "nbformat": 4,
 "nbformat_minor": 5
}
