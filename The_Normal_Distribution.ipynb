{
 "cells": [
  {
   "cell_type": "markdown",
   "id": "c8c825bf",
   "metadata": {},
   "source": [
    "# The Normal Disribution\n",
    "#### Written by: Sean Elliott \n",
    "#### Lecturer: Dr Ian McLoughlin \n",
    "#### Course: Fundamentals for Data Analytics 2022"
   ]
  },
  {
   "cell_type": "markdown",
   "id": "84cceaec",
   "metadata": {},
   "source": [
    "***"
   ]
  },
  {
   "cell_type": "markdown",
   "id": "5de9e61e",
   "metadata": {},
   "source": [
    "![The Normal Distribution](https://i0.wp.com/statisticsbyjim.com/wp-content/uploads/2018/04/pizza_delivery.png?resize=576%2C384) "
   ]
  },
  {
   "cell_type": "markdown",
   "id": "62012708",
   "metadata": {},
   "source": [
    "The aim of this notebook is to explain what the 'Normal Distribution is; how it can be created in python using code, where it is useful in data analytics and also how it can be applied to everyday data analysis."
   ]
  },
  {
   "cell_type": "markdown",
   "id": "d12283d4",
   "metadata": {},
   "source": [
    "## What is the Normal Distribution?\n",
    "\n",
    "The 'Normal distribution', also known as the Gaussian distribution, is a probability distribution that is symmetric and centred on the mean, showing that data near the mean are more frequent in occurrence than data further from the mean.\n",
    "\n",
    "In graphical form, the normal distribution appears as a \"bell curve\". The Normal Distribution is a proper name for a 'probability bell curve'. \n",
    "\n",
    "There are a few key pieces of information that we need ot take note of before we delve into 'The Normal Distribution'; namely that the mean of the distribution is zero and it's standard deviation is 1. It has zero skew and a kurtosis of 3.\n",
    "\n",
    "'Skew' is the measurement of symmetry in the distribution or (more precisely) the lack of symmetry of a distribution.\n",
    "\n",
    "'Kurtosis' is a measurement of whether a data set is heavy-tailed or lightly-tailed. If a data set has outliers or is heavy tailed it has high kurtosis; with the low kurtosis meaning light tails and lack of outliers.\n",
    "\n",
    "A histogram is an effective graphical representation for showing both skewness and kurtosis of a data set.\n",
    "\n",
    "Many naturally occurring phenomena appear to be normally-distributted.\n"
   ]
  },
  {
   "cell_type": "markdown",
   "id": "4f1ad3d7",
   "metadata": {},
   "source": [
    "## What is the formula for the Normal Distribution?\n",
    "\n",
    "The normal distribution has the following formula. Note that only the values of the mean (μ) and standard deviation (σ) are necessary. \n",
    "\n",
    "$$ f(x) = \\frac{1}{\\sigma\\sqrt{2 \\pi }} e^{-\\frac{1}{2}({\\frac{(x - \\mu)}{\\sigma})^2}} $$\n",
    "\n",
    "----\n",
    "\n",
    "<div align=\"center\"> x = The value of the variable/data </div>\n",
    "\n",
    "----\n",
    "\n",
    "<div align=\"center\"> f(x) = The Probability Function </div>\n",
    "\n",
    "----\n",
    "\n",
    "<div align=\"center\"> $$\\mu$$ The Mean </div>\n",
    "\n",
    "----\n",
    "\n",
    "<div align=\"center\"> $$\\sigma$$ The Standard Deviation</div>"
   ]
  },
  {
   "cell_type": "markdown",
   "id": "878b0e41",
   "metadata": {},
   "source": [
    "## How do I know if it is a Normal Distribution?\n",
    "\n",
    "There are some key ways that we can visually tell that a trend is a Normal Distribution.\n",
    "There are several important features that define it; namely the mean(the average), the mode(the midpoint) and the median(the most frequent observation.) The three key points are all equal to one another in the normal distribution. These values represent the peak or highest point of the distribution. The distribution is, as shown below, symmetrical - it falls around the 'mean' value, and the width of the mean is defined by the standard deviation. "
   ]
  },
  {
   "cell_type": "markdown",
   "id": "b6934058",
   "metadata": {},
   "source": [
    "![](https://miro.medium.com/max/720/0*wHMvuwRa_YF9SFwY.webp)"
   ]
  },
  {
   "cell_type": "markdown",
   "id": "bc8c3000",
   "metadata": {},
   "source": [
    "## What are the Mean, Mode and Median?\n",
    "\n",
    "The 'Mean' is the average or 'norm' - it is calculated by adding up all of the values to find a total. This total is then divided by the total of number of values that were added together:\n",
    "\n",
    "$$ 2 + 2 + 3 + 5 + 5 + 7 + 8 = 32 $$\n",
    "\n",
    "$$ 32 / 7 = 4.57$$\n",
    "\n",
    "*Mean = 4.57\n",
    "\n",
    "The 'Mode' is the most frequent value - which is calculated by counting how many of each value as they appear. Helpful to note that you can have more than one 'Mode' value:\n",
    "\n",
    "$$ 2, 2, 3, 4, 5, 5, 7, 8. $$\n",
    "\n",
    "The *Modes are: 2 & 5 (as they both appear twice.)\n",
    "\n",
    "The 'Median' is the middle range - this is calculated by putting the numbers into numerical order and counting to find the middle value. If there are two values in the middle then we find the mean of the two values:\n",
    "\n",
    "$$ 1, 1, 2, 4, 5, 7, 8, 9, 11 $$\n",
    "\n",
    "The *Median in this case is '5' as it is slap bang in the middle of the list of organised numbers."
   ]
  },
  {
   "cell_type": "markdown",
   "id": "1889bb3f",
   "metadata": {},
   "source": [
    "## Why is the normal distribution called 'Normal'?\n",
    "\n",
    "The normal distribution is technically known as the 'Gaussian' distribution, however it gained the 'normal' moniker following 19th century sceintific publications which showed a link between the 'bell curve shaped graph' and naturally occurring phenomena - which all appear to 'deviate normally' from the mean.\n",
    "\n",
    "![](https://i.ytimg.com/vi/kxGsL6PRiNg/hqdefault.jpg)"
   ]
  },
  {
   "cell_type": "markdown",
   "id": "c2b53fce",
   "metadata": {},
   "source": [
    "# Demonstration\n",
    "\n",
    "***"
   ]
  },
  {
   "cell_type": "markdown",
   "id": "9ccc5be0",
   "metadata": {},
   "source": [
    "I will now illustrate below using the (numpy.random package) how we create a normal distribution from a random set of data in python. We start by calling our functions, Numpy and Matplot Lib."
   ]
  },
  {
   "cell_type": "code",
   "execution_count": 15,
   "id": "78b6f0b1",
   "metadata": {},
   "outputs": [],
   "source": [
    "import numpy as np\n",
    "import matplotlib.pyplot as plt\n",
    "import math\n",
    "import scipy.stats as stats"
   ]
  },
  {
   "cell_type": "code",
   "execution_count": 16,
   "id": "263ed816",
   "metadata": {},
   "outputs": [
    {
     "data": {
      "text/plain": [
       "array([[ 0.49180374,  1.03814581, -0.31713108,  3.46095396, -2.14978008],\n",
       "       [-3.68574656, -2.19501994,  1.50374348, -0.59777245,  0.74211216],\n",
       "       [ 0.09712339,  2.54130328, -2.10419074, -0.74801445,  1.71367393],\n",
       "       ...,\n",
       "       [-2.18674494,  2.27271339,  0.76152439,  0.50637161,  3.75287044],\n",
       "       [-1.91337669,  2.99171658,  2.84774449, -1.1449436 ,  1.69796815],\n",
       "       [-0.06829949, -0.25880762, -0.56355771,  0.79705385,  3.47229107]])"
      ]
     },
     "execution_count": 16,
     "metadata": {},
     "output_type": "execute_result"
    }
   ],
   "source": [
    "# create random array of data for plotting and store it in x.\n",
    "x = np.random.normal(0.0, 2.0, (100000, 5))\n",
    "x"
   ]
  },
  {
   "cell_type": "code",
   "execution_count": 17,
   "id": "06e89680",
   "metadata": {},
   "outputs": [
    {
     "data": {
      "text/plain": [
       "-0.0013709943562932537"
      ]
     },
     "execution_count": 17,
     "metadata": {},
     "output_type": "execute_result"
    }
   ],
   "source": [
    "# calculate the mean value for x (which we will show on the plot of Normal Distribution.)\n",
    "x_mean = x.mean()\n",
    "x_mean"
   ]
  },
  {
   "cell_type": "code",
   "execution_count": 18,
   "id": "1628c673",
   "metadata": {},
   "outputs": [
    {
     "data": {
      "text/plain": [
       "array([2.00193354, 2.00415589, 1.99988904, 1.99769753, 2.00017534])"
      ]
     },
     "execution_count": 18,
     "metadata": {},
     "output_type": "execute_result"
    }
   ],
   "source": [
    "# Now calculate the standard deviation\n",
    "stdev = x.std(axis=0)\n",
    "stdev"
   ]
  },
  {
   "cell_type": "code",
   "execution_count": 25,
   "id": "e9199ce9",
   "metadata": {},
   "outputs": [
    {
     "data": {
      "text/plain": [
       "Text(0.5, 1.0, 'Normal Distribution')"
      ]
     },
     "execution_count": 25,
     "metadata": {},
     "output_type": "execute_result"
    },
    {
     "data": {
      "image/png": "[encoded data removed]",
      "text/plain": [
       "<Figure size 640x480 with 1 Axes>"
      ]
     },
     "metadata": {},
     "output_type": "display_data"
    }
   ],
   "source": [
    "# Now plot the Normal Distribution\n",
    "mu = 0\n",
    "variance = 1\n",
    "sigma = math.sqrt(variance)\n",
    "# Now plot the Normal Distribution\n",
    "x = np.linspace(mu - 3*sigma, mu + 3*sigma, 100)\n",
    "\n",
    "# Plot graph.\n",
    "plt.plot(x, stats.norm.pdf(x, mu, sigma),label='μ: 0, σ: 1')\n",
    "\n",
    "# Draw a vertical line where the standard deviation is.\n",
    "plt.axvline(x=0, color='red');\n",
    "\n",
    "#add legend to plot\n",
    "plt.legend(title='Parameters')\n",
    "\n",
    "#add axes labels and a title\n",
    "plt.ylabel('Density')\n",
    "plt.xlabel('x')\n",
    "plt.title('Normal Distribution', fontsize=14)"
   ]
  },
  {
   "cell_type": "code",
   "execution_count": null,
   "id": "7ad5a5f5",
   "metadata": {},
   "outputs": [],
   "source": []
  },
  {
   "cell_type": "code",
   "execution_count": null,
   "id": "a7f5cebd",
   "metadata": {},
   "outputs": [],
   "source": []
  },
  {
   "cell_type": "markdown",
   "id": "1ce32421",
   "metadata": {},
   "source": [
    "### References: \n",
    "****"
   ]
  },
  {
   "cell_type": "markdown",
   "id": "2240e677",
   "metadata": {},
   "source": [
    "https://www.investopedia.com/terms/n/normaldistribution.asp#:~:text=Normal%20distribution%2C%20also%20known%20as,as%20a%20%22bell%20curve%22.\n",
    "\n",
    "https://www.itl.nist.gov/div898/handbook/eda/section3/eda35b.htm\n",
    "\n"
   ]
  }
 ],
 "metadata": {
  "kernelspec": {
   "display_name": "Python 3 (ipykernel)",
   "language": "python",
   "name": "python3"
  },
  "language_info": {
   "codemirror_mode": {
    "name": "ipython",
    "version": 3
   },
   "file_extension": ".py",
   "mimetype": "text/x-python",
   "name": "python",
   "nbconvert_exporter": "python",
   "pygments_lexer": "ipython3",
   "version": "3.9.13"
  }
 },
 "nbformat": 4,
 "nbformat_minor": 5
}
