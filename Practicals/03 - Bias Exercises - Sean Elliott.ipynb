{
 "cells": [
  {
   "cell_type": "markdown",
   "id": "1cddd55a",
   "metadata": {},
   "source": [
    "## Exercise 1:\n",
    "\n",
    "#### Give three real-world examples of different types of cognitive bias.\n",
    "----\n",
    "\n",
    "![Cognitive Biases](http://www.visualcapitalist.com/wp-content/uploads/2018/03/18-cognitive-bias-examples.jpg)\n",
    "\n",
    "----"
   ]
  },
  {
   "cell_type": "markdown",
   "id": "d6e67eb7",
   "metadata": {},
   "source": [
    "1) The Gambler's Falacy:\n",
    "\n",
    "As discussed in the first class - Gambler's falacy is an excellent example of cognitive bias. Take a roulette table for instance - even though the outcome of the ball landing on a specific colour/number is ultimately totally random, the gambler will start to form a cognitive bias if they believe that they are on 'a lucky streak' meaning that they will continue to put money on either red or black, whichever the gambler believes has brought them more 'luck' in the past. The cognitive bias also fools the gambler into believing that even if they have previously lost a lot of money on red up unitl a point, that a ball landing on black is bound to be the next move - again something that is purely coincidental rather than accurate. The definition of the Gamblers Fallacy is as such: 'Believing that future probabilities are altered by past events, whejn in fact they are unchanged.'\n",
    "\n",
    "https://www.visualcapitalist.com/18-cognitive-bias-examples-mental-mistakes/"
   ]
  },
  {
   "cell_type": "markdown",
   "id": "95b643a0",
   "metadata": {},
   "source": [
    "2) Status Quo Bias:\n",
    "\n",
    "'If it aint broke, don't fix it.!' This is the bias where people prefer things to stay the same by doing nothing or by conintuing with historical choices and expecting the same outcome. Kahneman and Tversky observed that 'people feel greater regret for bad outocmes that result from new actions taken than from bad consequences that are the consequence on inaction'. Kahneman and Tversky called this the action-effect.\n",
    "\n",
    "https://www.behavioraleconomics.com/resources/mini-encyclopedia-of-be/status-quo-bias/\n",
    "https://pubmed.ncbi.nlm.nih.gov/32174647/"
   ]
  },
  {
   "cell_type": "markdown",
   "id": "209f109a",
   "metadata": {},
   "source": [
    "3) Confirmation Bias:\n",
    "\n",
    "https://www.behavioraleconomics.com/resources/mini-encyclopedia-of-be/confirmation-bias/\n",
    "\n",
    "Focusing on information that only confirms existing preconceptions. This is the deliberate seeking out or evaluating information through a lens which confirms our own subconscious (or conscious) biases, prejudices and preconceptions. An (unfortunately) common example of this are attacks upon a group of people based upon preconceptions of their religion/colour fueled by racial narratives."
   ]
  },
  {
   "cell_type": "markdown",
   "id": "6afad476",
   "metadata": {},
   "source": [
    "## Exercise 2:\n",
    "\n",
    "#### Show that the difference between the standard deviation calculations is greatest for small sample sizes.\n",
    "----"
   ]
  },
  {
   "cell_type": "code",
   "execution_count": null,
   "id": "5eede344",
   "metadata": {},
   "outputs": [],
   "source": []
  }
 ],
 "metadata": {
  "kernelspec": {
   "display_name": "Python 3 (ipykernel)",
   "language": "python",
   "name": "python3"
  },
  "language_info": {
   "codemirror_mode": {
    "name": "ipython",
    "version": 3
   },
   "file_extension": ".py",
   "mimetype": "text/x-python",
   "name": "python",
   "nbconvert_exporter": "python",
   "pygments_lexer": "ipython3",
   "version": "3.9.13"
  }
 },
 "nbformat": 4,
 "nbformat_minor": 5
}
