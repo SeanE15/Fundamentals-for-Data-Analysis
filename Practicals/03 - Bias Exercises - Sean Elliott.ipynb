{
 "cells": [
  {
   "cell_type": "markdown",
   "id": "1cddd55a",
   "metadata": {},
   "source": [
    "## Exercise 1:\n",
    "\n",
    "#### Give three real-world examples of different types of cognitive bias.\n",
    "----\n",
    "\n",
    "![Cognitive Biases](http://www.visualcapitalist.com/wp-content/uploads/2018/03/18-cognitive-bias-examples.jpg)\n",
    "\n",
    "----"
   ]
  },
  {
   "cell_type": "markdown",
   "id": "d6e67eb7",
   "metadata": {},
   "source": [
    "1) The Gambler's Falacy:\n",
    "\n",
    "As discussed in the first class - Gambler's falacy is an excellent example of cognitive bias. Take a roulette table for instance - even though the outcome of the ball landing on a specific colour/number is ultimately totally random, the gambler will start to form a cognitive bias if they believe that they are on 'a lucky streak' meaning that they will continue to put money on either red or black, whichever the gambler believes has brought them more 'luck' in the past. The cognitive bias also fools the gambler into believing that even if they have previously lost a lot of money on red up unitl a point, that a ball landing on black is bound to be the next move - again something that is purely coincidental rather than accurate. The definition of the Gamblers Fallacy is as such: 'Believing that future probabilities are altered by past events, whejn in fact they are unchanged.'\n",
    "\n",
    "https://www.visualcapitalist.com/18-cognitive-bias-examples-mental-mistakes/"
   ]
  },
  {
   "cell_type": "markdown",
   "id": "95b643a0",
   "metadata": {},
   "source": [
    "2) Status Quo Bias:\n",
    "\n",
    "'If it aint broke, don't fix it.!' This is the bias where people prefer things to stay the same by doing nothing or by conintuing with historical choices and expecting the same outcome. Kahneman and Tversky observed that 'people feel greater regret for bad outocmes that result from new actions taken than from bad consequences that are the consequence on inaction'. Kahneman and Tversky called this the action-effect.\n",
    "\n",
    "https://www.behavioraleconomics.com/resources/mini-encyclopedia-of-be/status-quo-bias/\n",
    "https://pubmed.ncbi.nlm.nih.gov/32174647/"
   ]
  },
  {
   "cell_type": "markdown",
   "id": "209f109a",
   "metadata": {},
   "source": [
    "3) Confirmation Bias:\n",
    "\n",
    "https://www.behavioraleconomics.com/resources/mini-encyclopedia-of-be/confirmation-bias/\n",
    "\n",
    "Focusing on information that only confirms existing preconceptions. This is the deliberate seeking out or evaluating information through a lens which confirms our own subconscious (or conscious) biases, prejudices and preconceptions. An (unfortunately) common example of this are attacks upon a group of people based upon preconceptions of their religion/colour fueled by racial narratives."
   ]
  },
  {
   "cell_type": "markdown",
   "id": "6afad476",
   "metadata": {},
   "source": [
    "## Exercise 2:\n",
    "\n",
    "#### Show that the difference between the standard deviation calculations is greatest for small sample sizes.\n",
    "----"
   ]
  },
  {
   "cell_type": "code",
   "execution_count": 11,
   "id": "a4946527",
   "metadata": {},
   "outputs": [],
   "source": [
    "import numpy as np\n",
    "import matplotlib.pyplot as plt"
   ]
  },
  {
   "cell_type": "code",
   "execution_count": 12,
   "id": "5eede344",
   "metadata": {},
   "outputs": [
    {
     "data": {
      "text/plain": [
       "2.8"
      ]
     },
     "execution_count": 12,
     "metadata": {},
     "output_type": "execute_result"
    }
   ],
   "source": [
    "numb1 = np.array([1,1,1,1,10])\n",
    "np.mean(numb1)\n"
   ]
  },
  {
   "cell_type": "code",
   "execution_count": 13,
   "id": "1ebe94d4",
   "metadata": {},
   "outputs": [
    {
     "data": {
      "text/plain": [
       "2.8"
      ]
     },
     "execution_count": 13,
     "metadata": {},
     "output_type": "execute_result"
    }
   ],
   "source": [
    "numb2 = np.array([2,2,3,3,4])\n",
    "np.mean(numb2)"
   ]
  },
  {
   "cell_type": "code",
   "execution_count": 14,
   "id": "4dc7ed9d",
   "metadata": {},
   "outputs": [
    {
     "name": "stdout",
     "output_type": "stream",
     "text": [
      "0.0000\n"
     ]
    }
   ],
   "source": [
    "x_mean = numb1.mean()\n",
    "\n",
    "zeroed = numb1 - x_mean\n",
    "\n",
    "zeroed.mean()\n",
    "\n",
    "print (f'{zeroed.mean():0.4f}')"
   ]
  },
  {
   "cell_type": "code",
   "execution_count": 15,
   "id": "c9b4e7dd",
   "metadata": {},
   "outputs": [
    {
     "data": {
      "text/plain": [
       "array([ 3.24,  3.24,  3.24,  3.24, 51.84])"
      ]
     },
     "execution_count": 15,
     "metadata": {},
     "output_type": "execute_result"
    }
   ],
   "source": [
    "np.square(zeroed)"
   ]
  },
  {
   "cell_type": "code",
   "execution_count": 16,
   "id": "1162b5c6",
   "metadata": {},
   "outputs": [
    {
     "name": "stdout",
     "output_type": "stream",
     "text": [
      "0.0000\n"
     ]
    }
   ],
   "source": [
    "y_mean = numb2.mean()\n",
    "\n",
    "zeroed2 = numb2 - y_mean\n",
    "\n",
    "zeroed2.mean()\n",
    "\n",
    "print (f'{zeroed2.mean():0.4f}')"
   ]
  },
  {
   "cell_type": "code",
   "execution_count": 17,
   "id": "9434ed2a",
   "metadata": {},
   "outputs": [
    {
     "data": {
      "text/plain": [
       "array([0.64, 0.64, 0.04, 0.04, 1.44])"
      ]
     },
     "execution_count": 17,
     "metadata": {},
     "output_type": "execute_result"
    }
   ],
   "source": [
    "np.square(zeroed2)"
   ]
  },
  {
   "cell_type": "code",
   "execution_count": 18,
   "id": "a2027d46",
   "metadata": {},
   "outputs": [
    {
     "data": {
      "text/plain": [
       "3.6000000000000005"
      ]
     },
     "execution_count": 18,
     "metadata": {},
     "output_type": "execute_result"
    }
   ],
   "source": [
    "# We then look for the standard deviation fo the first array \n",
    "zeroed.std()"
   ]
  },
  {
   "cell_type": "code",
   "execution_count": 19,
   "id": "3d62a9b4",
   "metadata": {},
   "outputs": [
    {
     "data": {
      "text/plain": [
       "0.7483314773547883"
      ]
     },
     "execution_count": 19,
     "metadata": {},
     "output_type": "execute_result"
    }
   ],
   "source": [
    "# We look for the standard deviation for the 2nd array\n",
    "zeroed2.std()"
   ]
  },
  {
   "cell_type": "code",
   "execution_count": 22,
   "id": "767994f6",
   "metadata": {},
   "outputs": [
    {
     "data": {
      "text/plain": [
       "12.960000000000003"
      ]
     },
     "execution_count": 22,
     "metadata": {},
     "output_type": "execute_result"
    }
   ],
   "source": [
    "np.mean(np.square(zeroed - np.mean(zeroed)))"
   ]
  },
  {
   "cell_type": "code",
   "execution_count": 20,
   "id": "cf80c8aa",
   "metadata": {},
   "outputs": [
    {
     "data": {
      "text/plain": [
       "16.200000000000003"
      ]
     },
     "execution_count": 20,
     "metadata": {},
     "output_type": "execute_result"
    }
   ],
   "source": [
    "np.mean(np.square(zeroed - np.mean(zeroed))) * (len(zeroed) / (len(zeroed) - 1.0))"
   ]
  },
  {
   "cell_type": "code",
   "execution_count": 23,
   "id": "70da5b41",
   "metadata": {},
   "outputs": [
    {
     "data": {
      "text/plain": [
       "0.56"
      ]
     },
     "execution_count": 23,
     "metadata": {},
     "output_type": "execute_result"
    }
   ],
   "source": [
    "np.mean(np.square(zeroed2 - np.mean(zeroed2)))"
   ]
  },
  {
   "cell_type": "code",
   "execution_count": 21,
   "id": "804010a9",
   "metadata": {},
   "outputs": [
    {
     "data": {
      "text/plain": [
       "0.7000000000000001"
      ]
     },
     "execution_count": 21,
     "metadata": {},
     "output_type": "execute_result"
    }
   ],
   "source": [
    "np.mean(np.square(zeroed2 - np.mean(zeroed2))) * (len(zeroed2) / (len(zeroed2) - 1.0))"
   ]
  },
  {
   "cell_type": "code",
   "execution_count": null,
   "id": "bb9b285b",
   "metadata": {},
   "outputs": [],
   "source": []
  },
  {
   "cell_type": "code",
   "execution_count": null,
   "id": "83aad4e0",
   "metadata": {},
   "outputs": [],
   "source": []
  },
  {
   "cell_type": "markdown",
   "id": "31343aa1",
   "metadata": {},
   "source": [
    "https://www.nlm.nih.gov/nichsr/stats_tutorial/section2/mod8_sd.html#:~:text=A%20standard%20deviation%20(or%20%CF%83,data%20are%20more%20spread%20out."
   ]
  }
 ],
 "metadata": {
  "kernelspec": {
   "display_name": "Python 3 (ipykernel)",
   "language": "python",
   "name": "python3"
  },
  "language_info": {
   "codemirror_mode": {
    "name": "ipython",
    "version": 3
   },
   "file_extension": ".py",
   "mimetype": "text/x-python",
   "name": "python",
   "nbconvert_exporter": "python",
   "pygments_lexer": "ipython3",
   "version": "3.9.13"
  }
 },
 "nbformat": 4,
 "nbformat_minor": 5
}
