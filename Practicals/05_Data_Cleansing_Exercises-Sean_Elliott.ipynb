{
 "cells": [
  {
   "cell_type": "markdown",
   "id": "adf8f225",
   "metadata": {},
   "source": [
    "## Exercise 1\n",
    "\n",
    "### Write a Python function to remove all non-alphanumeric characters from a string.\n",
    "\n",
    "****"
   ]
  },
  {
   "cell_type": "markdown",
   "id": "987972ea",
   "metadata": {},
   "source": [
    "![](https://miro.medium.com/max/500/0*g90i9EmkDRMRfF9-.jpg)"
   ]
  },
  {
   "cell_type": "code",
   "execution_count": 25,
   "id": "68858c98",
   "metadata": {},
   "outputs": [],
   "source": [
    "# I start by importing re\n",
    "import re "
   ]
  },
  {
   "cell_type": "code",
   "execution_count": 26,
   "id": "925ed49f",
   "metadata": {},
   "outputs": [],
   "source": [
    "# create a string with alphanumeric characters \n",
    "string = 'three !two? One'"
   ]
  },
  {
   "cell_type": "code",
   "execution_count": 27,
   "id": "707c7066",
   "metadata": {},
   "outputs": [
    {
     "name": "stdout",
     "output_type": "stream",
     "text": [
      "threetwoOne\n"
     ]
    }
   ],
   "source": [
    "# use the substitute function to substitute any non alphanumeric characters with ''.\n",
    "string = re.sub(r'[\\W_]', '', string)\n",
    "print(string) "
   ]
  },
  {
   "cell_type": "code",
   "execution_count": 28,
   "id": "652af814",
   "metadata": {},
   "outputs": [
    {
     "name": "stdout",
     "output_type": "stream",
     "text": [
      "Nine twelve SevenHundred\n"
     ]
    }
   ],
   "source": [
    "string2 = 'Nine !twelve? SevenHundred#'\n",
    "\n",
    "# I then add a \\s to add spaces between the remaining groups. \n",
    "string2 = re.sub(r'[^\\s\\w_]', '', string2)\n",
    "print(string2)"
   ]
  },
  {
   "cell_type": "markdown",
   "id": "f174705f",
   "metadata": {},
   "source": [
    "## Exercise 2\n",
    "\n",
    "### Adapt the above code to capitalise the first letter of the iris species, using regular expressions.\n",
    "\n",
    "****"
   ]
  },
  {
   "cell_type": "code",
   "execution_count": null,
   "id": "7c909991",
   "metadata": {},
   "outputs": [],
   "source": []
  },
  {
   "cell_type": "code",
   "execution_count": null,
   "id": "eaf2fcc9",
   "metadata": {},
   "outputs": [],
   "source": []
  },
  {
   "cell_type": "code",
   "execution_count": null,
   "id": "c4c15ed6",
   "metadata": {},
   "outputs": [],
   "source": []
  }
 ],
 "metadata": {
  "kernelspec": {
   "display_name": "Python 3 (ipykernel)",
   "language": "python",
   "name": "python3"
  },
  "language_info": {
   "codemirror_mode": {
    "name": "ipython",
    "version": 3
   },
   "file_extension": ".py",
   "mimetype": "text/x-python",
   "name": "python",
   "nbconvert_exporter": "python",
   "pygments_lexer": "ipython3",
   "version": "3.9.13"
  }
 },
 "nbformat": 4,
 "nbformat_minor": 5
}
