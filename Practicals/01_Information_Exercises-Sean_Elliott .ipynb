{
 "cells": [
  {
   "cell_type": "markdown",
   "id": "5555abbf",
   "metadata": {},
   "source": [
    "##  <div align=\"center\">Alice in Wonderland & Information...!</div>\n",
    "\n",
    "----\n",
    "\n",
    "![](https://encrypted-tbn0.gstatic.com/images?q=tbn:ANd9GcSX_pIj0rtaeJBvPczCnD-5Teas8ciyIzE76Q&usqp=CAU)"
   ]
  },
  {
   "cell_type": "markdown",
   "id": "bddf70e8",
   "metadata": {},
   "source": [
    "### Exercise 01:  \n",
    "#### Adapt the code below to generate a 1000 character long string with weights based on the previous two characters.\n",
    "\n",
    "The first exercise we were given was to generate a string of characters 1000 characters long, and place weights on the string so that it looks similar to real english (without punctuation, but with spaces so that the groups of characters loosely look like real words). I started by pulling a text file from a url online (see link below) and chose a paragraph at random to base the string off of. In order to clean the data I had to strip the line endings and decode them before feeding them back into the program.\n",
    "\n",
    "I then had to define the characters that I wanted the program to create the string with and made sure that all letters were lower case. I then added weights to the program which would be applied to the string. These weights would count the number of characters in the paragraph we inputted, and then based it's randomly generated character off of the previous two characters it had produced. \n",
    "\n",
    "I then tell the program that between letters 1 and 1000 the parameters of the weights must be abided by, and then I ask the program to print the outcome. I also print out the length of the string to ensure that it has created 1000 randomly generated characters as per the instructions of the exercise."
   ]
  },
  {
   "cell_type": "code",
   "execution_count": 5,
   "id": "aca79c0f",
   "metadata": {},
   "outputs": [
    {
     "name": "stdout",
     "output_type": "stream",
     "text": [
      "The rabbit-hole went straight on like a tunnel for some way, and then dipped suddenly down, so suddenly that Alice had not a moment to think about stopping herself before she found herself falling down a very deep well.\n"
     ]
    }
   ],
   "source": [
    "# We start by importing the text file from our source using the built-in import function.\n",
    "\n",
    "import urllib.request\n",
    "import random \n",
    "\n",
    "# The URL of a text version of Alice in Wonderland.\n",
    "url = 'https://www.gutenberg.org/files/11/11-0.txt'\n",
    "\n",
    "# We then convert the file to a list.\n",
    "book = list(urllib.request.urlopen(url))\n",
    "\n",
    "# Decode the lines and strip the line endings.\n",
    "book = [line.decode('utf-8-sig').strip() for line in book]\n",
    "\n",
    "# I then hand pick a paragraph (avoiding the preamble at the start, index, table of contents etc).\n",
    "paragraph = ' '.join(book[85:89])\n",
    "\n",
    "print(paragraph)"
   ]
  },
  {
   "cell_type": "code",
   "execution_count": 6,
   "id": "9cac60b6",
   "metadata": {},
   "outputs": [],
   "source": [
    "# Define parameters with which we want to form the 1000 character long string.\n",
    "chars = 'abcdefghijklmnopqrstuvwxyz '\n",
    "\n",
    "# Tidy text file by ensuring everything lowercase\n",
    "alice = paragraph.lower() \n",
    "\n",
    "# Strip punctuation \n",
    "alice = ''.join([c for c in alice if c in chars])\n",
    "\n",
    "# create the weights for the program; counting the occurences of each char in the donor text. \n",
    "weights = [alice.count(c) for c in chars] \n",
    "twoghts = {c: {d: alice.count(c + d) for d in chars} for c in chars}\n",
    "\n",
    "# we designated 'e' as the starting point as it is one of the letters that appears in abundance. \n",
    "pairs = 'e'"
   ]
  },
  {
   "cell_type": "code",
   "execution_count": 7,
   "id": "e34152a4",
   "metadata": {
    "scrolled": true
   },
   "outputs": [
    {
     "name": "stdout",
     "output_type": "stream",
     "text": [
      "ef a ally weng f shenthelfown wn hely ra he rerandighellelfomepithe sopinnd t d thenthaig nn he versut tut trstr omersond d tounlfopeellfo we we hikefo a a dike dotonerse sudome fowaly foppinnthe helipind suddelfon see her stral d bepig binddelin he town dddeppicely selenlf se aik ne ray trsudinke d l fomotomothowe fopeenk henlfo hitomoraly omene hederainghe ly folindellit sthipefowanlipe sudomowe bownk adely hepinly meliceng t t n ntht fory sot sen helf we stot vene bbowe hersheeen hel vellfowa aice owneellfownthersudoreraberst sud sthe fonk st dersut t d t se he d ding de aborst sthelly son thtrst sen t at f ad a add velitha derainded hiken se t moly d sut rat doud t ve st dotud adothaddefabikenddd d shay sutoudeper l n ve l n hera bikeng t hin stht sther sut a l sende lforstr f the seedderait a a se athe denele senoudig dicede ra shipe sowne ade alit annthomout molelinenlipit wepikelling ounghtra forstrse habenlfan shep sudorst se rstren f dee a st sthinlice tht se wng anlipp at nth\n"
     ]
    }
   ],
   "source": [
    "for i in range(1, 1000):\n",
    "    # Get the weights where the previous character is the last character in 'pairs'.\n",
    "    wt = twoghts[pairs[-1]]\n",
    "    # turn wt to a list , ordered by chars \n",
    "    wt =[wt[c] for c in chars]\n",
    "    # Randomly pick the next character using those weights.\n",
    "    nextc = random.choices(chars, weights=wt, k=2)[0]\n",
    "    # Append the character to pairs.\n",
    "    pairs = pairs + nextc\n",
    "\n",
    "print(pairs)"
   ]
  },
  {
   "cell_type": "code",
   "execution_count": 8,
   "id": "fcae3ffc",
   "metadata": {},
   "outputs": [
    {
     "data": {
      "text/plain": [
       "1000"
      ]
     },
     "execution_count": 8,
     "metadata": {},
     "output_type": "execute_result"
    }
   ],
   "source": [
    "# Check that the correct number of characters printed.\n",
    "len(pairs)"
   ]
  },
  {
   "cell_type": "markdown",
   "id": "53a5ab9c",
   "metadata": {},
   "source": [
    "\n",
    "![](data:image/png;base64,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)\n",
    "\n",
    "### Exercise 02:  \n",
    "#### Why is the log of zero undefined?\n",
    "\n",
    "The question for this weeks assessment was asked, 'why the log of zero is undefined?'.\n",
    "After much youtube research and frantic googling the research I have done has pointed out that log 0 is undefined as it is not a 'real' number.\n",
    "\n",
    "According to [Britannica](https://www.britannica.com/science/real-number) 'Real number, in mathematics, a quantity that can be expressed as an infinite decimal expansion. Real numbers are used in measurements of continuously varying quantities such as size and time, in contrast to the natural numbers ... arising from counting. The word real distinguishes them from the imaginary numbers'.\n",
    "\n",
    "One cannot get zero by raising to the power of anything else; the end result will never reach zero, you can only get close to 0 by using an infinitely\n",
    "large and negative power.\n",
    "\n",
    "I have illustrated below the break down of what happens from a mathematical standpoint when trying to define the log of 0, and **why** it is undefined. The equation below shows that you cannot divide zero, 0 times. Making the log of 0 undefinable.\n",
    "\n",
    "---\n",
    "\n",
    "$$ 0 = 0^{1-1} $$\n",
    "\n",
    "$$ 0^0 = 0^{1} \\times 0^{-1} $$\n",
    "\n",
    "$$ 0^0 = 0 \\times {1 \\over 0} $$\n",
    "\n",
    "$$ 0^0 = {0 \\over 0} = Undefined $$\n",
    "\n",
    "---\n",
    "\n",
    "### References\n",
    "\n",
    "[1] <https://www.britannica.com/science/real-number>\n",
    "\n",
    "[2] <https://csrgxtu.github.io/2015/03/20/Writing-Mathematic-Fomulars-in-Markdown>\n",
    "\n",
    "[3] <https://meta.stackexchange.com/questions/226869/how-can-i-add-the-mathematical-symbol-for-power-like-x-2-to-a-question>\n",
    "\n",
    "[4] <https://www.youtube.com/watch?v=oT2li3nOWmc> \n",
    "\n",
    "[5] <https://www.youtube.com/watch?v=yw8PSfd_48s>\n",
    "\n",
    "[6] <https://towardsdatascience.com/the-ultimate-markdown-cheat-sheet-3d3976b31a0> \n",
    "    \n",
    "[7] <https://www.youtube.com/watch?v=uVLzL5E-YBM> \n",
    "    \n",
    "[8] <https://rpruim.github.io/s341/S19/from-class/MathinRmd.html> \n",
    "\n",
    "Majority of code used was taken from examples in class - created by Dr. Ian McLoughlin; unless specified otherwise."
   ]
  }
 ],
 "metadata": {
  "kernelspec": {
   "display_name": "Python 3 (ipykernel)",
   "language": "python",
   "name": "python3"
  },
  "language_info": {
   "codemirror_mode": {
    "name": "ipython",
    "version": 3
   },
   "file_extension": ".py",
   "mimetype": "text/x-python",
   "name": "python",
   "nbconvert_exporter": "python",
   "pygments_lexer": "ipython3",
   "version": "3.9.13"
  },
  "vscode": {
   "interpreter": {
    "hash": "d7934f991fb386396a9c6735fc91ec36cd20c995d59e75a3d5f8113bf295d4d6"
   }
  }
 },
 "nbformat": 4,
 "nbformat_minor": 5
}
