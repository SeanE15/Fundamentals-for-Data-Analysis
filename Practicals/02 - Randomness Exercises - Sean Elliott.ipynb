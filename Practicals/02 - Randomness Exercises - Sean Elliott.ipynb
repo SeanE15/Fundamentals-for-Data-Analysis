{
 "cells": [
  {
   "cell_type": "markdown",
   "id": "31f642bb",
   "metadata": {},
   "source": [
    "Exercise:\n",
    "\n",
    "If we only wanted exactly four heads as opposed to five, the equivalent calculation would be (10 * 9 * 8 * 7) / (4 * 3 * 2 * 1).\n",
    "\n",
    "1) Does that evenly divide too? What is the formula in general?\n",
    "\n",
    "2) Does it always come out as a positive whole number?'"
   ]
  },
  {
   "cell_type": "markdown",
   "id": "0d2765ae",
   "metadata": {},
   "source": [
    "1) We start by showing the equation as it is:\n",
    "\n",
    "(10 * 9 * 8 * 7) / (4 * 3 * 2 * 1) =\n",
    "(5040) / (24) =\n",
    "210 possible combinations of 4 heads/tails.\n",
    "\n",
    "\n",
    "210 is an *evenly divisible* number, the numbers it is divisible by are as follows: 1, 2, 3, 5, 6, 7, 10, 14, 15, 21, 30, 35, 42, 70, 105 and 210. There is no remainder. \n",
    "\n",
    "The formula in general is as follows;\n",
    "\n",
    "Depending on the amount of combinations you want to calculate - take 3 places for example, we count down from 10; three places (10,9,8) and divide those three numbers into the bottom 3 numbers (3,2,1). This give us our total number of combinations.\n",
    "\n",
    "(10 * 9 * 8) / (3 * 2 * 1) =\n",
    "(720) / (6) =\n",
    "120 possible combinations of 3 heads/tails (which is also evenly divisable).\n",
    "\n",
    "2) Counting of 7 head/tails combinations the numbers are evenly divisable; as demonstrated below:\n",
    "\n",
    "(14 * 13 * 12 * 11 * 10 * 9 * 8) / (7 * 6 * 5 * 4 * 3 * 2 * 1) =\n",
    "(17297280) / (5040) = \n",
    "3423 possible combinations of 7 heads/tails (which is evenly divisible.)\n",
    "\n",
    "\n"
   ]
  },
  {
   "cell_type": "markdown",
   "id": "6819b933",
   "metadata": {},
   "source": [
    "Exercise:\n",
    "\n",
    "'There are the same number of ways to get 4 tails as there to get 4 heads. Explain why this is.'"
   ]
  },
  {
   "cell_type": "markdown",
   "id": "44c08c59",
   "metadata": {},
   "source": [
    "If we are judging the answer for this question from the previous constraints it is correct that there are the same number of ways to get 4 heads as 4 tails. In this instance we are flipping a coin to determine the outcome of the above - there is a 50/50 chance that any coin flip will either land on heads or tails - with the previous outcome baring no consequence on the forthcoming result. This is because in a coin toss there can only be 2  possible outcomes (unless the coin lands on its edge, which has not been accounted for). The number for heads/tails is interchangeable; as the only outcomes can either be 1's or 0's (one side of the coin or the other). As such; the head/tails 'label' is purely defined by the coin flipper - and there are a finite amount of combinations for the flips. (210 possible combinations to be precise).\n",
    "\n"
   ]
  }
 ],
 "metadata": {
  "kernelspec": {
   "display_name": "Python 3 (ipykernel)",
   "language": "python",
   "name": "python3"
  },
  "language_info": {
   "codemirror_mode": {
    "name": "ipython",
    "version": 3
   },
   "file_extension": ".py",
   "mimetype": "text/x-python",
   "name": "python",
   "nbconvert_exporter": "python",
   "pygments_lexer": "ipython3",
   "version": "3.9.13"
  }
 },
 "nbformat": 4,
 "nbformat_minor": 5
}
