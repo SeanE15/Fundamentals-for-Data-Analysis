{
 "cells": [
  {
   "cell_type": "markdown",
   "id": "31f642bb",
   "metadata": {},
   "source": [
    "Exercise:\n",
    "\n",
    "If we only wanted exactly four heads as opposed to five, the equivalent calculation would be (10 * 9 * 8 * 7) / (4 * 3 * 2 * 1).\n",
    "\n",
    "Does that evenly divide too? What is the formula in general?\n",
    "\n",
    "Does it always come out as a positive whole number?'"
   ]
  },
  {
   "cell_type": "markdown",
   "id": "0d2765ae",
   "metadata": {},
   "source": [
    "We start by showing the equation as it is:\n",
    "\n",
    "(10 * 9 * 8 * 7) / (4 * 3 * 2 * 1) =\n",
    "(5040) / (24) =\n",
    "210 possible combinations of 4 heads/tails.\n",
    "\n",
    "\n",
    "210 is an evenly divisible number also, the number it is divisible by are as follows: 1, 2, 3, 5, 6, 7, 10, 14, 15, 21, 30, 35, 42, 70, 105 and 210. There is no remainder. \n",
    "\n"
   ]
  },
  {
   "cell_type": "markdown",
   "id": "6819b933",
   "metadata": {},
   "source": [
    "Exercise:\n",
    "\n",
    "'There are the same number of ways to get 4 tails as there to get 4 heads. Explain why this is.'"
   ]
  },
  {
   "cell_type": "markdown",
   "id": "44c08c59",
   "metadata": {},
   "source": [
    "If we are judging the answer for this question from the previous constraints it is correct that there are the same number of ways to get 4 heads as 4 tails. In this instance we are flipping a coin to determine the outcome of the above - there is a 50/50 chance that any coin flip will either land on heads or tails - with the previous outcome baring no consequence on the forthcoming result. This is because in a coin toss there can only be 2  possible outcomes (unless the coin lands on its edge, which has not been accounted for).\n",
    "\n"
   ]
  }
 ],
 "metadata": {
  "kernelspec": {
   "display_name": "Python 3 (ipykernel)",
   "language": "python",
   "name": "python3"
  },
  "language_info": {
   "codemirror_mode": {
    "name": "ipython",
    "version": 3
   },
   "file_extension": ".py",
   "mimetype": "text/x-python",
   "name": "python",
   "nbconvert_exporter": "python",
   "pygments_lexer": "ipython3",
   "version": "3.9.13"
  }
 },
 "nbformat": 4,
 "nbformat_minor": 5
}
