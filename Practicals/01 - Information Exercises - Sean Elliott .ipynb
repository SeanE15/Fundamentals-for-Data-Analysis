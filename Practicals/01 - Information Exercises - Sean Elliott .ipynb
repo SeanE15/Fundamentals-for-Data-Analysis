{
 "cells": [
  {
   "cell_type": "code",
   "execution_count": null,
   "id": "aca79c0f",
   "metadata": {},
   "outputs": [],
   "source": [
    "\"Alice in Wonderland Code\" \n",
    "\"Code reference: Ian McLoughlin, 'Information Video', ATU Galway 06/10/2022\""
   ]
  },
  {
   "cell_type": "code",
   "execution_count": null,
   "id": "d60f33b9",
   "metadata": {},
   "outputs": [],
   "source": [
    "# Make HTTP requests for internet reqources.\n",
    "import urllib.request\n",
    "\n",
    "# The URL of a text version of Alice in Wonderland.\n",
    "book_url = 'https://www.gutenberg.org/files/11/11-0.txt'\n",
    "\n",
    "# Get the book.\n",
    "book = list(urllib.request.urlopen(book_url))\n",
    "\n",
    "# Decode the lines and strip line endings.\n",
    "book = [line.decode('utf-8-sig').strip() for line in book]\n",
    "\n",
    "# Get a sample paragraph - I looked for this by hand.\n",
    "paragraph = ' '.join(book[58:63])\n",
    "\n",
    "# Show the paragraph.\n",
    "print(paragraph)"
   ]
  },
  {
   "cell_type": "code",
   "execution_count": null,
   "id": "9cac60b6",
   "metadata": {},
   "outputs": [],
   "source": [
    "# Let's lower-case it.\n",
    "alice = paragraph.lower()\n",
    "\n",
    "# All letters and a space.\n",
    "chars = 'abcdefghijklmnopqrstuvwxyz '\n",
    "\n",
    "# And strip anything that is not a letter or space.\n",
    "alice = ''.join([c for c in alice if c in chars])\n",
    "\n",
    "# Show the paragraph now.\n",
    "print(alice)"
   ]
  },
  {
   "cell_type": "code",
   "execution_count": null,
   "id": "e34152a4",
   "metadata": {},
   "outputs": [],
   "source": [
    "# For doing (pseudo-)random things in Python.\n",
    "import random\n",
    "\n",
    "# Print a random character, for example.\n",
    "print(random.choice(chars))"
   ]
  },
  {
   "cell_type": "code",
   "execution_count": null,
   "id": "a3250e90",
   "metadata": {},
   "outputs": [],
   "source": [
    "# Get the length of alice.\n",
    "N = len(alice)\n",
    "\n",
    "# Generate N random characters from chars.\n",
    "gener = random.choices(chars, k=N)\n",
    "\n",
    "# Join them together in a string.\n",
    "gener = ''.join(gener)\n",
    "\n",
    "# Print.\n",
    "print(gener)"
   ]
  },
  {
   "cell_type": "code",
   "execution_count": null,
   "id": "c5d9eb16",
   "metadata": {},
   "outputs": [],
   "source": [
    "# Get the whole book in one big string.\n",
    "sbook = ''.join(book[26:]).lower()\n",
    "\n",
    "# Create the weights - count the occurences of each character in the whole book.\n",
    "weights = [sbook.count(c) for c in chars]\n",
    "\n",
    "# Show the weights.\n",
    "weights"
   ]
  },
  {
   "cell_type": "code",
   "execution_count": null,
   "id": "1f3807d1",
   "metadata": {},
   "outputs": [],
   "source": [
    "# Generate a string using those weights.\n",
    "wgenr = random.choices(chars, weights=weights, k=N)\n",
    "\n",
    "# Join them together in a string.\n",
    "wgenr = ''.join(wgenr)\n",
    "\n",
    "# Print.\n",
    "print(wgenr)"
   ]
  },
  {
   "cell_type": "code",
   "execution_count": null,
   "id": "f154c58f",
   "metadata": {},
   "outputs": [],
   "source": [
    "\n",
    "# Create the weights.\n",
    "twoghts = {c: {d: sbook.count(c + d) for d in chars} for c in chars}\n",
    "\n",
    "# Show the weights.\n",
    "twoghts\n"
   ]
  },
  {
   "cell_type": "code",
   "execution_count": null,
   "id": "0428341c",
   "metadata": {},
   "outputs": [],
   "source": [
    "# Loop through our character set.\n",
    "for i in range(len(chars)):\n",
    "    # Print the character and how many times it appears in Alice in Wonderland.\n",
    "    print(f'{chars[i]}: {weights[i]}')"
   ]
  },
  {
   "cell_type": "code",
   "execution_count": null,
   "id": "f7f8f716",
   "metadata": {},
   "outputs": [],
   "source": [
    "\n",
    "\n",
    "# Start with space.\n",
    "pairs = ' '\n",
    "\n",
    "# Do the following N-1 times.\n",
    "for i in range(1, N):\n",
    "    # Get the weights where the previous character is the last character in twos.\n",
    "    wt = twoghts[pairs[-1]]\n",
    "    # Turn wt into a list, ordered by chars.\n",
    "    wt = [wt[c] for c in chars]\n",
    "    # Randomly pick the next character using those weights.\n",
    "    nextc = random.choices(chars, weights=wt, k=1)[0]\n",
    "    # Append the character to twos.\n",
    "    pairs = pairs + nextc\n"
   ]
  },
  {
   "cell_type": "code",
   "execution_count": null,
   "id": "0c4e732e",
   "metadata": {},
   "outputs": [],
   "source": []
  },
  {
   "cell_type": "code",
   "execution_count": null,
   "id": "51cc4c8d",
   "metadata": {},
   "outputs": [],
   "source": []
  },
  {
   "cell_type": "code",
   "execution_count": null,
   "id": "c2262998",
   "metadata": {},
   "outputs": [],
   "source": []
  }
 ],
 "metadata": {
  "kernelspec": {
   "display_name": "Python 3 (ipykernel)",
   "language": "python",
   "name": "python3"
  },
  "language_info": {
   "codemirror_mode": {
    "name": "ipython",
    "version": 3
   },
   "file_extension": ".py",
   "mimetype": "text/x-python",
   "name": "python",
   "nbconvert_exporter": "python",
   "pygments_lexer": "ipython3",
   "version": "3.9.13"
  }
 },
 "nbformat": 4,
 "nbformat_minor": 5
}
