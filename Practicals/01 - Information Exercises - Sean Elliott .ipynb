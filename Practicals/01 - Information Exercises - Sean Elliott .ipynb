{
 "cells": [
  {
   "cell_type": "code",
   "execution_count": 4,
   "id": "aca79c0f",
   "metadata": {},
   "outputs": [
    {
     "name": "stdout",
     "output_type": "stream",
     "text": [
      "The rabbit-hole went straight on like a tunnel for some way, and then dipped suddenly down, so suddenly that Alice had not a moment to think about stopping herself before she found herself falling down a very deep well.\n"
     ]
    }
   ],
   "source": [
    "# Title: \"Adapt the code above to generate a 1000 character long string with weights based on the previous two characters.\"\n",
    "# Lecturer: Dr Ian Mc Loughlin\n",
    "# Author: Sean Elliott \n",
    "\n",
    "# We start by importing the text file from our source using the built-in import function.\n",
    "\n",
    "import urllib.request\n",
    "import random \n",
    "\n",
    "# The URL of a text version of Alice in Wonderland.\n",
    "url = 'https://www.gutenberg.org/files/11/11-0.txt'\n",
    "\n",
    "# We then convert the file to a list.\n",
    "book = list(urllib.request.urlopen(url))\n",
    "\n",
    "# Decode the lines and strip the line endings.\n",
    "book = [line.decode('utf-8-sig').strip() for line in book]\n",
    "\n",
    "# I then hand pick a paragraph (avoiding the preamble at the start, index, table fo contents etc).\n",
    "paragraph = ' '.join(book[85:89])\n",
    "\n",
    "print(paragraph)"
   ]
  },
  {
   "cell_type": "code",
   "execution_count": 5,
   "id": "9cac60b6",
   "metadata": {},
   "outputs": [],
   "source": [
    "# Define parameters with which we want to form the 1000 character long string.\n",
    "chars = 'abcdefghijklmnopqrstuvwxyz '\n",
    "\n",
    "# Tidy text file by ensuring everythign lowercase\n",
    "alice = paragraph.lower() \n",
    "\n",
    "# Strip punctuation \n",
    "alice = ''.join([c for c in alice if c in chars])\n",
    "\n",
    "# get length of paragraph\n",
    "N = len(alice)\n",
    "\n",
    "# create below the weights for the \n",
    "weights = [alice.count(c) for c in chars] \n",
    "twoghts = {c: {d: alice.count(c + d) for d in chars} for c in chars} \n"
   ]
  },
  {
   "cell_type": "code",
   "execution_count": 6,
   "id": "e34152a4",
   "metadata": {},
   "outputs": [
    {
     "name": "stdout",
     "output_type": "stream",
     "text": [
      " trsunkely we ston oneedelig senthtounenomoud so rso n nt ve do lig sonelf renghanouthat sundin alin he ve lly n ainnt thed tuddo aborsud tht tudighe sounenory sud re t se den venlindder to rst thothe she ththeng f \n"
     ]
    }
   ],
   "source": [
    "pairs = ' '\n",
    "\n",
    "for i in range(1, N):\n",
    "    # Get the weights where the previous character is the last character in twos.\n",
    "    wt = twoghts[pairs[-1]]\n",
    "    # turn wt to a list , ordered by chars \n",
    "    wt =[wt[c] for c in chars]\n",
    "    # Randomly pick the next character using those weights.\n",
    "    nextc = random.choices(chars, weights=wt, k=1000)[-2]\n",
    "    # Append the character to twos.\n",
    "    pairs = pairs + nextc\n",
    "\n",
    "# generate random characters from chars and set string length to 1000 letters.\n",
    "# = random.choices(chars, weights=weights, k=1000)\n",
    "\n",
    "# join letters into a string\n",
    "#gener = ''.join(gener)\n",
    "\n",
    "print(pairs)"
   ]
  }
 ],
 "metadata": {
  "kernelspec": {
   "display_name": "Python 3.8.5 64-bit",
   "language": "python",
   "name": "python3"
  },
  "language_info": {
   "codemirror_mode": {
    "name": "ipython",
    "version": 3
   },
   "file_extension": ".py",
   "mimetype": "text/x-python",
   "name": "python",
   "nbconvert_exporter": "python",
   "pygments_lexer": "ipython3",
   "version": "3.8.5"
  },
  "vscode": {
   "interpreter": {
    "hash": "d7934f991fb386396a9c6735fc91ec36cd20c995d59e75a3d5f8113bf295d4d6"
   }
  }
 },
 "nbformat": 4,
 "nbformat_minor": 5
}
