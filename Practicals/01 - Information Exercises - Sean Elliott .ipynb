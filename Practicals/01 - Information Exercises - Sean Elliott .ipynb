{
 "cells": [
  {
   "cell_type": "markdown",
   "id": "bddf70e8",
   "metadata": {},
   "source": [
    "### Exercise 01:  \n",
    "#### Adapt the code below to generate a 1000 character long string with weights based on the previous two characters."
   ]
  },
  {
   "cell_type": "code",
   "execution_count": 1,
   "id": "aca79c0f",
   "metadata": {},
   "outputs": [
    {
     "name": "stdout",
     "output_type": "stream",
     "text": [
      "The rabbit-hole went straight on like a tunnel for some way, and then dipped suddenly down, so suddenly that Alice had not a moment to think about stopping herself before she found herself falling down a very deep well.\n"
     ]
    }
   ],
   "source": [
    "# We start by importing the text file from our source using the built-in import function.\n",
    "\n",
    "import urllib.request\n",
    "import random \n",
    "\n",
    "# The URL of a text version of Alice in Wonderland.\n",
    "url = 'https://www.gutenberg.org/files/11/11-0.txt'\n",
    "\n",
    "# We then convert the file to a list.\n",
    "book = list(urllib.request.urlopen(url))\n",
    "\n",
    "# Decode the lines and strip the line endings.\n",
    "book = [line.decode('utf-8-sig').strip() for line in book]\n",
    "\n",
    "# I then hand pick a paragraph (avoiding the preamble at the start, index, table of contents etc).\n",
    "paragraph = ' '.join(book[85:89])\n",
    "\n",
    "print(paragraph)"
   ]
  },
  {
   "cell_type": "code",
   "execution_count": 2,
   "id": "9cac60b6",
   "metadata": {},
   "outputs": [],
   "source": [
    "# Define parameters with which we want to form the 1000 character long string.\n",
    "chars = 'abcdefghijklmnopqrstuvwxyz '\n",
    "\n",
    "# Tidy text file by ensuring everything lowercase\n",
    "alice = paragraph.lower() \n",
    "\n",
    "# Strip punctuation \n",
    "alice = ''.join([c for c in alice if c in chars])\n",
    "\n",
    "# get length of paragraph\n",
    "N = len(alice)\n",
    "\n",
    "# create the weights for the program; counting the occurences of each char in the donor text. \n",
    "weights = [alice.count(c) for c in chars] \n",
    "twoghts = {c: {d: alice.count(c + d) for d in chars} for c in chars} \n",
    "# we designated 'e' as the starting point as it is one of the letters that appears in abundance. \n",
    "pairs = 'e'"
   ]
  },
  {
   "cell_type": "code",
   "execution_count": 3,
   "id": "e34152a4",
   "metadata": {
    "scrolled": true
   },
   "outputs": [
    {
     "name": "stdout",
     "output_type": "stream",
     "text": [
      "ery fotunlfor onndep vent wnly athe abenly hikel fo hen sto sudoud foway abendely studerat tray op t weralentr omelik aththank t then htot forentutrad wa lly vent soud t omen sudon wnnng aikeratral sellitunghop d wnnly fa vef d ade sersent folly linlin be aner wn r me vefathelfa a somepitope t wndowefope somelelippinthippe souddeng hentheralfory tolf trabe thenlf wathaithe thothaikelfo allly henthathithe lighelfa for t bollly ora lfomowabery dde st t d sun soly aboud foppinlighee t some veen a hikely alfa t werepennllfopit so sellinonnghat sefomeddeng f foudeppe nne llin we aighenomennlikely alellf fo ha alfabbit t sunomome wnnghan denk rery habinnd thtra weppipin sha llf t thing t t we t thanntrshalingherelfor shinnnththeep sudoun heenl t a oud t t ainner senk wnthef atha anomend habind the haig faly t ddindddint rat st wenthabin d henowe and sund sha thelep touden sundelllellip wnlly halfown honllly ded trer hitung hit wendowndde haipen sundore tht rad strabitha versudinly shedikefo \n"
     ]
    }
   ],
   "source": [
    "for i in range(1, 1000):\n",
    "    # Get the weights where the previous character is the last character in 'pairs'.\n",
    "    wt = twoghts[pairs[-1]]\n",
    "    # turn wt to a list , ordered by chars \n",
    "    wt =[wt[c] for c in chars]\n",
    "    # Randomly pick the next character using those weights.\n",
    "    nextc = random.choices(chars, weights=wt, k=2)[0]\n",
    "    # Append the character to pairs.\n",
    "    pairs = pairs + nextc\n",
    "\n",
    "print(pairs)"
   ]
  },
  {
   "cell_type": "markdown",
   "id": "53a5ab9c",
   "metadata": {},
   "source": [
    "### Exercise 02:  \n",
    "#### Why is the log of zero undefined?\n",
    "\n",
    "The question for this weeks assessment was asked, 'why the log of zero is undefined?'.\n",
    "After much youtube research and frantic googling the research I have done has pointed out that log 0 is undefined as it is not a 'real' number.\n",
    "\n",
    "According to Britannica 'Real number, in mathematics, a quantity that can be expressed as an infinite decimal expansion. Real numbers are used in measurements of continuously varying quantities such as size and time, in contrast to the natural numbers ... arising from counting. The word real distinguishes them from the imaginary numbers'.\n",
    "\n",
    "One cannot get zero by raising to the power of anything else; the end result will never reach zero, you can only get close to 0 by using an infinitely\n",
    "large and negative power.\n",
    "\n",
    "I have illustrated below the break down of what happens from a mathematical standpoint when trying to define the log of 0, and **why** it is undefined. The equation below shows that you cannot divide zero, 0 times. Making the log of 0 undefinable.\n",
    "\n",
    "---\n",
    "\n",
    "$$ 0 = 0^{1-1} $$\n",
    "\n",
    "$$ 0^0 = 0^{1} \\times 0^{-1} $$\n",
    "\n",
    "$$ 0^0 = 0 \\times {1 \\over 0} $$\n",
    "\n",
    "$$ 0^0 = {0 \\over 0} = Undefined $$\n",
    "\n",
    "---\n",
    "\n",
    "**<p align=\"center\"> References**\n",
    "\n",
    "[1] <https://www.britannica.com/science/real-number>\n",
    "\n",
    "[2] <https://csrgxtu.github.io/2015/03/20/Writing-Mathematic-Fomulars-in-Markdown>\n",
    "\n",
    "[3] <https://meta.stackexchange.com/questions/226869/how-can-i-add-the-mathematical-symbol-for-power-like-x-2-to-a-question>\n",
    "\n",
    "[4] <https://www.youtube.com/watch?v=oT2li3nOWmc> \n",
    "\n",
    "[5] <https://www.youtube.com/watch?v=yw8PSfd_48s>\n",
    "\n",
    "[6] <https://towardsdatascience.com/the-ultimate-markdown-cheat-sheet-3d3976b31a0> \n",
    "    \n",
    "[7] <https://www.youtube.com/watch?v=uVLzL5E-YBM> \n",
    "    \n",
    "[8] <https://rpruim.github.io/s341/S19/from-class/MathinRmd.html> "
   ]
  },
  {
   "cell_type": "code",
   "execution_count": null,
   "id": "ebfc8bab",
   "metadata": {},
   "outputs": [],
   "source": []
  }
 ],
 "metadata": {
  "kernelspec": {
   "display_name": "Python 3 (ipykernel)",
   "language": "python",
   "name": "python3"
  },
  "language_info": {
   "codemirror_mode": {
    "name": "ipython",
    "version": 3
   },
   "file_extension": ".py",
   "mimetype": "text/x-python",
   "name": "python",
   "nbconvert_exporter": "python",
   "pygments_lexer": "ipython3",
   "version": "3.8.5"
  },
  "vscode": {
   "interpreter": {
    "hash": "d7934f991fb386396a9c6735fc91ec36cd20c995d59e75a3d5f8113bf295d4d6"
   }
  }
 },
 "nbformat": 4,
 "nbformat_minor": 5
}
