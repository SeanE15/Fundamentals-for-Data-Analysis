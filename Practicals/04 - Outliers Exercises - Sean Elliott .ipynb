{
 "cells": [
  {
   "cell_type": "markdown",
   "id": "3d846210",
   "metadata": {},
   "source": [
    "# Exercise 1\n",
    "\n",
    "Create box plots for all of the numercial variables in Fisher's Iris Data Set.\n"
   ]
  },
  {
   "cell_type": "code",
   "execution_count": null,
   "id": "2710c30d",
   "metadata": {},
   "outputs": [],
   "source": []
  },
  {
   "cell_type": "code",
   "execution_count": null,
   "id": "1dcd6b4b",
   "metadata": {},
   "outputs": [],
   "source": []
  }
 ],
 "metadata": {
  "kernelspec": {
   "display_name": "Python 3 (ipykernel)",
   "language": "python",
   "name": "python3"
  },
  "language_info": {
   "codemirror_mode": {
    "name": "ipython",
    "version": 3
   },
   "file_extension": ".py",
   "mimetype": "text/x-python",
   "name": "python",
   "nbconvert_exporter": "python",
   "pygments_lexer": "ipython3",
   "version": "3.9.13"
  }
 },
 "nbformat": 4,
 "nbformat_minor": 5
}
