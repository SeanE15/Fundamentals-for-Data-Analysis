{
 "cells": [
  {
   "cell_type": "markdown",
   "id": "1cddd55a",
   "metadata": {},
   "source": [
    "##  <div align=\"center\">Bias Exercises</div>\n",
    "\n",
    "![Cognitive Biases](http://www.visualcapitalist.com/wp-content/uploads/2018/03/18-cognitive-bias-examples.jpg)\n",
    "\n",
    "----"
   ]
  },
  {
   "cell_type": "markdown",
   "id": "ca40db4e",
   "metadata": {},
   "source": [
    "## Exercise 1:\n",
    "\n",
    "#### Give three real-world examples of different types of cognitive bias."
   ]
  },
  {
   "cell_type": "markdown",
   "id": "d6e67eb7",
   "metadata": {},
   "source": [
    "1) The Gambler's Falacy:\n",
    "\n",
    "As discussed in the first class - Gambler's falacy is an excellent example of cognitive bias. Take a roulette table for instance - even though the outcome of the ball landing on a specific colour/number is ultimately totally random, the gambler will start to form a cognitive bias if they believe that they are on 'a lucky streak' meaning that they will continue to put money on either red or black, whichever the gambler believes has brought them more 'luck' in the past. The cognitive bias also fools the gambler into believing that even if they have previously lost a lot of money on red up until that point, that a ball landing on black is bound to be the next move - again something that is purely coincidental rather than accurate. The definition of the Gamblers Fallacy is: 'Believing that future probabilities are altered by past events, when in fact they are unchanged.'\n",
    "\n",
    "https://www.visualcapitalist.com/18-cognitive-bias-examples-mental-mistakes/"
   ]
  },
  {
   "cell_type": "markdown",
   "id": "95b643a0",
   "metadata": {},
   "source": [
    "2) Status Quo Bias:\n",
    "\n",
    "'If it aint broke, don't fix it.!' This is the bias where people prefer things to stay the same by doing nothing or by conintuing with historical choices and expecting the same outcome. Kahneman and Tversky observed that 'people feel greater regret for bad outcomes that result from new actions taken than from bad consequences that are the consequence on inaction'. Kahneman and Tversky called this the action-effect.\n",
    "\n",
    "https://www.behavioraleconomics.com/resources/mini-encyclopedia-of-be/status-quo-bias/\n",
    "\n",
    "https://pubmed.ncbi.nlm.nih.gov/32174647/"
   ]
  },
  {
   "cell_type": "markdown",
   "id": "209f109a",
   "metadata": {},
   "source": [
    "3) Confirmation Bias:\n",
    "\n",
    "Focusing on information that only confirms existing preconceptions. This is the deliberate seeking out or evaluating information through a lens which confirms our own subconscious (or conscious) biases, prejudices and preconceptions. An (unfortunately) common example of this are attacks upon a group of people based upon preconceptions of their religion/colour fueled by racial narratives.\n",
    "\n",
    "https://www.behavioraleconomics.com/resources/mini-encyclopedia-of-be/confirmation-bias/"
   ]
  },
  {
   "cell_type": "markdown",
   "id": "6afad476",
   "metadata": {},
   "source": [
    "### Exercise 2:\n",
    "#### Show that the difference between the standard deviation calculations is greatest for small sample sizes.\n",
    "----"
   ]
  },
  {
   "cell_type": "code",
   "execution_count": 19,
   "id": "a4946527",
   "metadata": {},
   "outputs": [],
   "source": [
    "import numpy as np\n",
    "import matplotlib.pyplot as plt"
   ]
  },
  {
   "cell_type": "code",
   "execution_count": 20,
   "id": "5eede344",
   "metadata": {},
   "outputs": [],
   "source": [
    "# creat first of two arrays; setting our standard deviation @ 2.0 and using 100000 occurences of 5 samples.\n",
    "numb1 = np.random.normal(0.0, 2.0, (100000, 5))"
   ]
  },
  {
   "cell_type": "code",
   "execution_count": 21,
   "id": "1ebe94d4",
   "metadata": {},
   "outputs": [],
   "source": [
    "# Create an array similar ot the first, but using 15 samples instead of 5 (increasing the sample size).\n",
    "numb2 = np.random.normal(0.0, 2.0, (100000, 15))"
   ]
  },
  {
   "cell_type": "code",
   "execution_count": 22,
   "id": "4dc7ed9d",
   "metadata": {},
   "outputs": [
    {
     "data": {
      "text/plain": [
       "array([0.82735501, 1.08338757, 1.88239268, ..., 1.29218266, 2.12737375,\n",
       "       1.96570671])"
      ]
     },
     "execution_count": 22,
     "metadata": {},
     "output_type": "execute_result"
    }
   ],
   "source": [
    "stdevs = numb1.std(axis=1)\n",
    "stdevs"
   ]
  },
  {
   "cell_type": "code",
   "execution_count": 23,
   "id": "c9b4e7dd",
   "metadata": {},
   "outputs": [
    {
     "data": {
      "text/plain": [
       "array([2.12764512, 1.52820779, 2.07181042, ..., 1.40991537, 1.9415866 ,\n",
       "       1.72290464])"
      ]
     },
     "execution_count": 23,
     "metadata": {},
     "output_type": "execute_result"
    }
   ],
   "source": [
    "stdevs2 = numb2.std(axis=1)\n",
    "stdevs2"
   ]
  },
  {
   "cell_type": "markdown",
   "id": "208e4826",
   "metadata": {},
   "source": [
    "As you can see from the two histograms below, the standard deviation (ie. the distance between the red line and the centre of the bell curve) is closer to being accurate in the 2nd example compared to the first. The larger of the two sample sizes (example 2) proves more accurate than the smaller sample size (which is example 1)."
   ]
  },
  {
   "cell_type": "code",
   "execution_count": 24,
   "id": "1162b5c6",
   "metadata": {},
   "outputs": [
    {
     "data": {
      "image/png": "[encoded data removed]",
      "text/plain": [
       "<Figure size 1000x500 with 1 Axes>"
      ]
     },
     "metadata": {},
     "output_type": "display_data"
    }
   ],
   "source": [
    "# View a histogram - hopefully we can see the estimate is too small.\n",
    "fig, ax = plt.subplots(figsize=(10, 5))\n",
    "\n",
    "# Plot histogram.\n",
    "plt.hist(stdevs, bins=10)\n",
    "\n",
    "# Draw a vertical line where the actual standard deviation is.\n",
    "plt.axvline(x=2.0, color='red');"
   ]
  },
  {
   "cell_type": "code",
   "execution_count": 25,
   "id": "9434ed2a",
   "metadata": {},
   "outputs": [
    {
     "data": {
      "image/png": "[encoded data removed]",
      "text/plain": [
       "<Figure size 1000x500 with 1 Axes>"
      ]
     },
     "metadata": {},
     "output_type": "display_data"
    }
   ],
   "source": [
    "# View a histogram - hopefully we can see the estimate is too small.\n",
    "fig, ax = plt.subplots(figsize=(10, 5))\n",
    "\n",
    "# Plot histogram.\n",
    "plt.hist(stdevs2, bins=10)\n",
    "\n",
    "# Draw a vertical line where the actual standard deviation is.\n",
    "plt.axvline(x=2.0, color='red');"
   ]
  },
  {
   "cell_type": "markdown",
   "id": "31c8bd3d",
   "metadata": {},
   "source": [
    "###  <div align=\"center\">Result of Standard Deviation Comparison</div>\n",
    "\n",
    "Below I then calculate the correct standard deviation using *Bessel's Function.* Note the higher deviation in the first example (stdevs) compared to the standard deviation in the second example (stdevs2). This is proof that the deviation is larger (almost triple the size) for smaller sample sizes than larger samples - as can be seen when comparing the two histograms. The red line shows the mean of the 5 samples which were used in stdevs (example 1) compared to 15 samples in stdevs 2. Using Bessel's function below we can highlight the exact numeric difference between a smaller sample size, and a larger one, proving that the standard deviation calculation is greatest for small sample sizes."
   ]
  },
  {
   "cell_type": "code",
   "execution_count": 26,
   "id": "cf80c8aa",
   "metadata": {},
   "outputs": [
    {
     "data": {
      "text/plain": [
       "0.3740768162237058"
      ]
     },
     "execution_count": 26,
     "metadata": {},
     "output_type": "execute_result"
    }
   ],
   "source": [
    "#smaller sample size - larger deviation\n",
    "np.mean(np.square(stdevs - np.mean(stdevs))) * (len(stdevs) / (len(stdevs) - 1.0))"
   ]
  },
  {
   "cell_type": "code",
   "execution_count": 27,
   "id": "804010a9",
   "metadata": {},
   "outputs": [
    {
     "data": {
      "text/plain": [
       "0.1317028603987058"
      ]
     },
     "execution_count": 27,
     "metadata": {},
     "output_type": "execute_result"
    }
   ],
   "source": [
    "#larger sample size - smaller deviation\n",
    "np.mean(np.square(stdevs2 - np.mean(stdevs2))) * (len(stdevs2) / (len(stdevs2) - 1.0))"
   ]
  },
  {
   "cell_type": "markdown",
   "id": "31343aa1",
   "metadata": {},
   "source": [
    "### References:\n",
    "\n",
    "Majority of code used was taken from examples in class - created by Dr. Ian McLoughlin; unless specified otherwise.\n",
    "\n",
    "\n",
    "https://www.nlm.nih.gov/nichsr/stats_tutorial/section2/mod8_sd.html#:~:text=A%20standard%20deviation%20or%20%CF%83,data%20are%20more%20spread%20out."
   ]
  }
 ],
 "metadata": {
  "kernelspec": {
   "display_name": "Python 3 (ipykernel)",
   "language": "python",
   "name": "python3"
  },
  "language_info": {
   "codemirror_mode": {
    "name": "ipython",
    "version": 3
   },
   "file_extension": ".py",
   "mimetype": "text/x-python",
   "name": "python",
   "nbconvert_exporter": "python",
   "pygments_lexer": "ipython3",
   "version": "3.9.13"
  }
 },
 "nbformat": 4,
 "nbformat_minor": 5
}
