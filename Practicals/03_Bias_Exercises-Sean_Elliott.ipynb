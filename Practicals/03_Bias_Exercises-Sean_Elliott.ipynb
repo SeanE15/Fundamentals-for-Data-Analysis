{
 "cells": [
  {
   "cell_type": "markdown",
   "id": "1cddd55a",
   "metadata": {},
   "source": [
    "## Exercise 1:\n",
    "\n",
    "#### Give three real-world examples of different types of cognitive bias.\n",
    "----\n",
    "\n",
    "![Cognitive Biases](http://www.visualcapitalist.com/wp-content/uploads/2018/03/18-cognitive-bias-examples.jpg)\n",
    "\n",
    "----"
   ]
  },
  {
   "cell_type": "markdown",
   "id": "d6e67eb7",
   "metadata": {},
   "source": [
    "1) The Gambler's Falacy:\n",
    "\n",
    "As discussed in the first class - Gambler's falacy is an excellent example of cognitive bias. Take a roulette table for instance - even though the outcome of the ball landing on a specific colour/number is ultimately totally random, the gambler will start to form a cognitive bias if they believe that they are on 'a lucky streak' meaning that they will continue to put money on either red or black, whichever the gambler believes has brought them more 'luck' in the past. The cognitive bias also fools the gambler into believing that even if they have previously lost a lot of money on red up unitl a point, that a ball landing on black is bound to be the next move - again something that is purely coincidental rather than accurate. The definition of the Gamblers Fallacy is as such: 'Believing that future probabilities are altered by past events, whejn in fact they are unchanged.'\n",
    "\n",
    "https://www.visualcapitalist.com/18-cognitive-bias-examples-mental-mistakes/"
   ]
  },
  {
   "cell_type": "markdown",
   "id": "95b643a0",
   "metadata": {},
   "source": [
    "2) Status Quo Bias:\n",
    "\n",
    "'If it aint broke, don't fix it.!' This is the bias where people prefer things to stay the same by doing nothing or by conintuing with historical choices and expecting the same outcome. Kahneman and Tversky observed that 'people feel greater regret for bad outocmes that result from new actions taken than from bad consequences that are the consequence on inaction'. Kahneman and Tversky called this the action-effect.\n",
    "\n",
    "https://www.behavioraleconomics.com/resources/mini-encyclopedia-of-be/status-quo-bias/\n",
    "https://pubmed.ncbi.nlm.nih.gov/32174647/"
   ]
  },
  {
   "cell_type": "markdown",
   "id": "209f109a",
   "metadata": {},
   "source": [
    "3) Confirmation Bias:\n",
    "\n",
    "https://www.behavioraleconomics.com/resources/mini-encyclopedia-of-be/confirmation-bias/\n",
    "\n",
    "Focusing on information that only confirms existing preconceptions. This is the deliberate seeking out or evaluating information through a lens which confirms our own subconscious (or conscious) biases, prejudices and preconceptions. An (unfortunately) common example of this are attacks upon a group of people based upon preconceptions of their religion/colour fueled by racial narratives."
   ]
  },
  {
   "cell_type": "markdown",
   "id": "6afad476",
   "metadata": {},
   "source": [
    "## Exercise 2:\n",
    "\n",
    "#### Show that the difference between the standard deviation calculations is greatest for small sample sizes.\n",
    "----"
   ]
  },
  {
   "cell_type": "code",
   "execution_count": 182,
   "id": "a4946527",
   "metadata": {},
   "outputs": [],
   "source": [
    "import numpy as np\n",
    "import matplotlib.pyplot as plt"
   ]
  },
  {
   "cell_type": "code",
   "execution_count": 183,
   "id": "5eede344",
   "metadata": {},
   "outputs": [],
   "source": [
    "# creat first of two arrays; setting our standard deviation @ 2.0 and using 100000 occurences of 5 samples.\n",
    "numb1 = np.random.normal(0.0, 2.0, (100000, 5))"
   ]
  },
  {
   "cell_type": "code",
   "execution_count": 184,
   "id": "1ebe94d4",
   "metadata": {},
   "outputs": [],
   "source": [
    "# Create an array similar ot the first, but using 10 samples instead of 5 (increasing the sample size).\n",
    "numb2 = np.random.normal(0.0, 2.0, (100000, 10))"
   ]
  },
  {
   "cell_type": "code",
   "execution_count": 185,
   "id": "4dc7ed9d",
   "metadata": {},
   "outputs": [
    {
     "data": {
      "text/plain": [
       "array([1.25651123, 1.00871583, 1.37866964, ..., 1.86793376, 1.67586987,\n",
       "       0.69994649])"
      ]
     },
     "execution_count": 185,
     "metadata": {},
     "output_type": "execute_result"
    }
   ],
   "source": [
    "stdevs = numb1.std(axis=1)\n",
    "stdevs"
   ]
  },
  {
   "cell_type": "code",
   "execution_count": 186,
   "id": "c9b4e7dd",
   "metadata": {},
   "outputs": [
    {
     "data": {
      "text/plain": [
       "array([1.71308181, 2.09927425, 1.3891673 , ..., 1.68681002, 2.14250934,\n",
       "       1.63406644])"
      ]
     },
     "execution_count": 186,
     "metadata": {},
     "output_type": "execute_result"
    }
   ],
   "source": [
    "stdevs2 = numb2.std(axis=1)\n",
    "stdevs2"
   ]
  },
  {
   "cell_type": "markdown",
   "id": "208e4826",
   "metadata": {},
   "source": [
    "As you can see from the two histograms below, the standard deviation (ie. the red line's distance from the centre of the bell curve) is closer to being accurate in the 2nd example compared to the first. The larger of the two sample sizes proves more accurate than the smaller sample size (which is example 1)."
   ]
  },
  {
   "cell_type": "code",
   "execution_count": 187,
   "id": "1162b5c6",
   "metadata": {},
   "outputs": [
    {
     "data": {
      "image/png": "[encoded data removed]",
      "text/plain": [
       "<Figure size 1000x500 with 1 Axes>"
      ]
     },
     "metadata": {},
     "output_type": "display_data"
    }
   ],
   "source": [
    "# View a histogram - hopefully we can see the estimate is too small.\n",
    "fig, ax = plt.subplots(figsize=(10, 5))\n",
    "\n",
    "# Plot histogram.\n",
    "plt.hist(stdevs, bins=10)\n",
    "\n",
    "# Draw a vertical line where the actual standard deviation is.\n",
    "plt.axvline(x=2.0, color='red');"
   ]
  },
  {
   "cell_type": "code",
   "execution_count": 188,
   "id": "9434ed2a",
   "metadata": {},
   "outputs": [
    {
     "data": {
      "image/png": "[encoded data removed]",
      "text/plain": [
       "<Figure size 1000x500 with 1 Axes>"
      ]
     },
     "metadata": {},
     "output_type": "display_data"
    }
   ],
   "source": [
    "# View a histogram - hopefully we can see the estimate is too small.\n",
    "fig, ax = plt.subplots(figsize=(10, 5))\n",
    "\n",
    "# Plot histogram.\n",
    "plt.hist(stdevs2, bins=10)\n",
    "\n",
    "# Draw a vertical line where the actual standard deviation is.\n",
    "plt.axvline(x=2.0, color='red');"
   ]
  },
  {
   "cell_type": "markdown",
   "id": "31c8bd3d",
   "metadata": {},
   "source": [
    "Below I then calculate the correct standard deviation using *Bessel's Function.* Note the higher deviation in the first example (stdevs) compared to the stadnard deviation in the second example (stdevs2). "
   ]
  },
  {
   "cell_type": "code",
   "execution_count": 189,
   "id": "cf80c8aa",
   "metadata": {},
   "outputs": [
    {
     "data": {
      "text/plain": [
       "0.3719421145379856"
      ]
     },
     "execution_count": 189,
     "metadata": {},
     "output_type": "execute_result"
    }
   ],
   "source": [
    "np.mean(np.square(stdevs - np.mean(stdevs))) * (len(stdevs) / (len(stdevs) - 1.0))"
   ]
  },
  {
   "cell_type": "code",
   "execution_count": 190,
   "id": "804010a9",
   "metadata": {},
   "outputs": [
    {
     "data": {
      "text/plain": [
       "0.19389873602186566"
      ]
     },
     "execution_count": 190,
     "metadata": {},
     "output_type": "execute_result"
    }
   ],
   "source": [
    "np.mean(np.square(stdevs2 - np.mean(stdevs2))) * (len(stdevs2) / (len(stdevs2) - 1.0))"
   ]
  },
  {
   "cell_type": "code",
   "execution_count": null,
   "id": "bb9b285b",
   "metadata": {},
   "outputs": [],
   "source": []
  },
  {
   "cell_type": "code",
   "execution_count": null,
   "id": "83aad4e0",
   "metadata": {},
   "outputs": [],
   "source": []
  },
  {
   "cell_type": "markdown",
   "id": "31343aa1",
   "metadata": {},
   "source": [
    "https://www.nlm.nih.gov/nichsr/stats_tutorial/section2/mod8_sd.html#:~:text=A%20standard%20deviation%20(or%20%CF%83,data%20are%20more%20spread%20out."
   ]
  }
 ],
 "metadata": {
  "kernelspec": {
   "display_name": "Python 3 (ipykernel)",
   "language": "python",
   "name": "python3"
  },
  "language_info": {
   "codemirror_mode": {
    "name": "ipython",
    "version": 3
   },
   "file_extension": ".py",
   "mimetype": "text/x-python",
   "name": "python",
   "nbconvert_exporter": "python",
   "pygments_lexer": "ipython3",
   "version": "3.9.13"
  }
 },
 "nbformat": 4,
 "nbformat_minor": 5
}
